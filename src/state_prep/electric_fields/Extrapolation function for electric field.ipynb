{
 "cells": [
  {
   "cell_type": "markdown",
   "metadata": {},
   "source": [
    "Generating an extrapolation funtion for the electric field of the ring + rod electrodes that may be used for SPA. The data is generated in Ansys Maxwell 3D.\n",
    "\n",
    "Import the necessary functions:"
   ]
  },
  {
   "cell_type": "code",
   "execution_count": 1,
   "metadata": {},
   "outputs": [],
   "source": [
    "import numpy as np \n",
    "import pandas as pd #Use pandas to import data from \n",
    "from scipy.interpolate import interp1d #Module for making interpolation function\n",
    "import pickle #Use pickle to store the interpolating function\n",
    "import matplotlib.pyplot as plt #For polotting\n",
    "from scipy.signal import savgol_filter\n",
    "plt.style.use(['seaborn-deep', 'notebook'])"
   ]
  },
  {
   "cell_type": "markdown",
   "metadata": {},
   "source": [
    "## With rods wider apart"
   ]
  },
  {
   "cell_type": "markdown",
   "metadata": {},
   "source": [
    "Import data from csv file:"
   ]
  },
  {
   "cell_type": "code",
   "execution_count": 5,
   "metadata": {},
   "outputs": [
    {
     "ename": "FileNotFoundError",
     "evalue": "[Errno 2] No such file or directory: 'E along r = 0_rods_wider_apart_Vring_3700_Vrod_540_rod_offset_150.csv'",
     "output_type": "error",
     "traceback": [
      "\u001b[1;31m---------------------------------------------------------------------------\u001b[0m",
      "\u001b[1;31mFileNotFoundError\u001b[0m                         Traceback (most recent call last)",
      "Input \u001b[1;32mIn [5]\u001b[0m, in \u001b[0;36m<cell line: 2>\u001b[1;34m()\u001b[0m\n\u001b[0;32m      1\u001b[0m filename \u001b[38;5;241m=\u001b[39m \u001b[38;5;124m\"\u001b[39m\u001b[38;5;124mE along r = 0_rods_wider_apart_Vring_3700_Vrod_540_rod_offset_150.csv\u001b[39m\u001b[38;5;124m\"\u001b[39m\n\u001b[1;32m----> 2\u001b[0m dataframe \u001b[38;5;241m=\u001b[39m \u001b[43mpd\u001b[49m\u001b[38;5;241;43m.\u001b[39;49m\u001b[43mread_csv\u001b[49m\u001b[43m(\u001b[49m\u001b[43mfilename\u001b[49m\u001b[43m)\u001b[49m\n\u001b[0;32m      3\u001b[0m \u001b[38;5;66;03m# dataframe = pd.read_csv('Electric field moving along z_1.csv')\u001b[39;00m\n\u001b[0;32m      4\u001b[0m distance \u001b[38;5;241m=\u001b[39m (dataframe[\u001b[38;5;124m'\u001b[39m\u001b[38;5;124mDistance-350mm [mm]\u001b[39m\u001b[38;5;124m'\u001b[39m]\u001b[38;5;241m.\u001b[39mvalues)\u001b[38;5;241m/\u001b[39m\u001b[38;5;241m1e3\u001b[39m\n",
      "File \u001b[1;32m~\\Anaconda3\\envs\\state_prep\\lib\\site-packages\\pandas\\util\\_decorators.py:311\u001b[0m, in \u001b[0;36mdeprecate_nonkeyword_arguments.<locals>.decorate.<locals>.wrapper\u001b[1;34m(*args, **kwargs)\u001b[0m\n\u001b[0;32m    305\u001b[0m \u001b[38;5;28;01mif\u001b[39;00m \u001b[38;5;28mlen\u001b[39m(args) \u001b[38;5;241m>\u001b[39m num_allow_args:\n\u001b[0;32m    306\u001b[0m     warnings\u001b[38;5;241m.\u001b[39mwarn(\n\u001b[0;32m    307\u001b[0m         msg\u001b[38;5;241m.\u001b[39mformat(arguments\u001b[38;5;241m=\u001b[39marguments),\n\u001b[0;32m    308\u001b[0m         \u001b[38;5;167;01mFutureWarning\u001b[39;00m,\n\u001b[0;32m    309\u001b[0m         stacklevel\u001b[38;5;241m=\u001b[39mstacklevel,\n\u001b[0;32m    310\u001b[0m     )\n\u001b[1;32m--> 311\u001b[0m \u001b[38;5;28;01mreturn\u001b[39;00m func(\u001b[38;5;241m*\u001b[39margs, \u001b[38;5;241m*\u001b[39m\u001b[38;5;241m*\u001b[39mkwargs)\n",
      "File \u001b[1;32m~\\Anaconda3\\envs\\state_prep\\lib\\site-packages\\pandas\\io\\parsers\\readers.py:680\u001b[0m, in \u001b[0;36mread_csv\u001b[1;34m(filepath_or_buffer, sep, delimiter, header, names, index_col, usecols, squeeze, prefix, mangle_dupe_cols, dtype, engine, converters, true_values, false_values, skipinitialspace, skiprows, skipfooter, nrows, na_values, keep_default_na, na_filter, verbose, skip_blank_lines, parse_dates, infer_datetime_format, keep_date_col, date_parser, dayfirst, cache_dates, iterator, chunksize, compression, thousands, decimal, lineterminator, quotechar, quoting, doublequote, escapechar, comment, encoding, encoding_errors, dialect, error_bad_lines, warn_bad_lines, on_bad_lines, delim_whitespace, low_memory, memory_map, float_precision, storage_options)\u001b[0m\n\u001b[0;32m    665\u001b[0m kwds_defaults \u001b[38;5;241m=\u001b[39m _refine_defaults_read(\n\u001b[0;32m    666\u001b[0m     dialect,\n\u001b[0;32m    667\u001b[0m     delimiter,\n\u001b[1;32m   (...)\u001b[0m\n\u001b[0;32m    676\u001b[0m     defaults\u001b[38;5;241m=\u001b[39m{\u001b[38;5;124m\"\u001b[39m\u001b[38;5;124mdelimiter\u001b[39m\u001b[38;5;124m\"\u001b[39m: \u001b[38;5;124m\"\u001b[39m\u001b[38;5;124m,\u001b[39m\u001b[38;5;124m\"\u001b[39m},\n\u001b[0;32m    677\u001b[0m )\n\u001b[0;32m    678\u001b[0m kwds\u001b[38;5;241m.\u001b[39mupdate(kwds_defaults)\n\u001b[1;32m--> 680\u001b[0m \u001b[38;5;28;01mreturn\u001b[39;00m \u001b[43m_read\u001b[49m\u001b[43m(\u001b[49m\u001b[43mfilepath_or_buffer\u001b[49m\u001b[43m,\u001b[49m\u001b[43m \u001b[49m\u001b[43mkwds\u001b[49m\u001b[43m)\u001b[49m\n",
      "File \u001b[1;32m~\\Anaconda3\\envs\\state_prep\\lib\\site-packages\\pandas\\io\\parsers\\readers.py:575\u001b[0m, in \u001b[0;36m_read\u001b[1;34m(filepath_or_buffer, kwds)\u001b[0m\n\u001b[0;32m    572\u001b[0m _validate_names(kwds\u001b[38;5;241m.\u001b[39mget(\u001b[38;5;124m\"\u001b[39m\u001b[38;5;124mnames\u001b[39m\u001b[38;5;124m\"\u001b[39m, \u001b[38;5;28;01mNone\u001b[39;00m))\n\u001b[0;32m    574\u001b[0m \u001b[38;5;66;03m# Create the parser.\u001b[39;00m\n\u001b[1;32m--> 575\u001b[0m parser \u001b[38;5;241m=\u001b[39m TextFileReader(filepath_or_buffer, \u001b[38;5;241m*\u001b[39m\u001b[38;5;241m*\u001b[39mkwds)\n\u001b[0;32m    577\u001b[0m \u001b[38;5;28;01mif\u001b[39;00m chunksize \u001b[38;5;129;01mor\u001b[39;00m iterator:\n\u001b[0;32m    578\u001b[0m     \u001b[38;5;28;01mreturn\u001b[39;00m parser\n",
      "File \u001b[1;32m~\\Anaconda3\\envs\\state_prep\\lib\\site-packages\\pandas\\io\\parsers\\readers.py:933\u001b[0m, in \u001b[0;36mTextFileReader.__init__\u001b[1;34m(self, f, engine, **kwds)\u001b[0m\n\u001b[0;32m    930\u001b[0m     \u001b[38;5;28mself\u001b[39m\u001b[38;5;241m.\u001b[39moptions[\u001b[38;5;124m\"\u001b[39m\u001b[38;5;124mhas_index_names\u001b[39m\u001b[38;5;124m\"\u001b[39m] \u001b[38;5;241m=\u001b[39m kwds[\u001b[38;5;124m\"\u001b[39m\u001b[38;5;124mhas_index_names\u001b[39m\u001b[38;5;124m\"\u001b[39m]\n\u001b[0;32m    932\u001b[0m \u001b[38;5;28mself\u001b[39m\u001b[38;5;241m.\u001b[39mhandles: IOHandles \u001b[38;5;241m|\u001b[39m \u001b[38;5;28;01mNone\u001b[39;00m \u001b[38;5;241m=\u001b[39m \u001b[38;5;28;01mNone\u001b[39;00m\n\u001b[1;32m--> 933\u001b[0m \u001b[38;5;28mself\u001b[39m\u001b[38;5;241m.\u001b[39m_engine \u001b[38;5;241m=\u001b[39m \u001b[38;5;28;43mself\u001b[39;49m\u001b[38;5;241;43m.\u001b[39;49m\u001b[43m_make_engine\u001b[49m\u001b[43m(\u001b[49m\u001b[43mf\u001b[49m\u001b[43m,\u001b[49m\u001b[43m \u001b[49m\u001b[38;5;28;43mself\u001b[39;49m\u001b[38;5;241;43m.\u001b[39;49m\u001b[43mengine\u001b[49m\u001b[43m)\u001b[49m\n",
      "File \u001b[1;32m~\\Anaconda3\\envs\\state_prep\\lib\\site-packages\\pandas\\io\\parsers\\readers.py:1217\u001b[0m, in \u001b[0;36mTextFileReader._make_engine\u001b[1;34m(self, f, engine)\u001b[0m\n\u001b[0;32m   1213\u001b[0m     mode \u001b[38;5;241m=\u001b[39m \u001b[38;5;124m\"\u001b[39m\u001b[38;5;124mrb\u001b[39m\u001b[38;5;124m\"\u001b[39m\n\u001b[0;32m   1214\u001b[0m \u001b[38;5;66;03m# error: No overload variant of \"get_handle\" matches argument types\u001b[39;00m\n\u001b[0;32m   1215\u001b[0m \u001b[38;5;66;03m# \"Union[str, PathLike[str], ReadCsvBuffer[bytes], ReadCsvBuffer[str]]\"\u001b[39;00m\n\u001b[0;32m   1216\u001b[0m \u001b[38;5;66;03m# , \"str\", \"bool\", \"Any\", \"Any\", \"Any\", \"Any\", \"Any\"\u001b[39;00m\n\u001b[1;32m-> 1217\u001b[0m \u001b[38;5;28mself\u001b[39m\u001b[38;5;241m.\u001b[39mhandles \u001b[38;5;241m=\u001b[39m \u001b[43mget_handle\u001b[49m\u001b[43m(\u001b[49m\u001b[43m  \u001b[49m\u001b[38;5;66;43;03m# type: ignore[call-overload]\u001b[39;49;00m\n\u001b[0;32m   1218\u001b[0m \u001b[43m    \u001b[49m\u001b[43mf\u001b[49m\u001b[43m,\u001b[49m\n\u001b[0;32m   1219\u001b[0m \u001b[43m    \u001b[49m\u001b[43mmode\u001b[49m\u001b[43m,\u001b[49m\n\u001b[0;32m   1220\u001b[0m \u001b[43m    \u001b[49m\u001b[43mencoding\u001b[49m\u001b[38;5;241;43m=\u001b[39;49m\u001b[38;5;28;43mself\u001b[39;49m\u001b[38;5;241;43m.\u001b[39;49m\u001b[43moptions\u001b[49m\u001b[38;5;241;43m.\u001b[39;49m\u001b[43mget\u001b[49m\u001b[43m(\u001b[49m\u001b[38;5;124;43m\"\u001b[39;49m\u001b[38;5;124;43mencoding\u001b[39;49m\u001b[38;5;124;43m\"\u001b[39;49m\u001b[43m,\u001b[49m\u001b[43m \u001b[49m\u001b[38;5;28;43;01mNone\u001b[39;49;00m\u001b[43m)\u001b[49m\u001b[43m,\u001b[49m\n\u001b[0;32m   1221\u001b[0m \u001b[43m    \u001b[49m\u001b[43mcompression\u001b[49m\u001b[38;5;241;43m=\u001b[39;49m\u001b[38;5;28;43mself\u001b[39;49m\u001b[38;5;241;43m.\u001b[39;49m\u001b[43moptions\u001b[49m\u001b[38;5;241;43m.\u001b[39;49m\u001b[43mget\u001b[49m\u001b[43m(\u001b[49m\u001b[38;5;124;43m\"\u001b[39;49m\u001b[38;5;124;43mcompression\u001b[39;49m\u001b[38;5;124;43m\"\u001b[39;49m\u001b[43m,\u001b[49m\u001b[43m \u001b[49m\u001b[38;5;28;43;01mNone\u001b[39;49;00m\u001b[43m)\u001b[49m\u001b[43m,\u001b[49m\n\u001b[0;32m   1222\u001b[0m \u001b[43m    \u001b[49m\u001b[43mmemory_map\u001b[49m\u001b[38;5;241;43m=\u001b[39;49m\u001b[38;5;28;43mself\u001b[39;49m\u001b[38;5;241;43m.\u001b[39;49m\u001b[43moptions\u001b[49m\u001b[38;5;241;43m.\u001b[39;49m\u001b[43mget\u001b[49m\u001b[43m(\u001b[49m\u001b[38;5;124;43m\"\u001b[39;49m\u001b[38;5;124;43mmemory_map\u001b[39;49m\u001b[38;5;124;43m\"\u001b[39;49m\u001b[43m,\u001b[49m\u001b[43m \u001b[49m\u001b[38;5;28;43;01mFalse\u001b[39;49;00m\u001b[43m)\u001b[49m\u001b[43m,\u001b[49m\n\u001b[0;32m   1223\u001b[0m \u001b[43m    \u001b[49m\u001b[43mis_text\u001b[49m\u001b[38;5;241;43m=\u001b[39;49m\u001b[43mis_text\u001b[49m\u001b[43m,\u001b[49m\n\u001b[0;32m   1224\u001b[0m \u001b[43m    \u001b[49m\u001b[43merrors\u001b[49m\u001b[38;5;241;43m=\u001b[39;49m\u001b[38;5;28;43mself\u001b[39;49m\u001b[38;5;241;43m.\u001b[39;49m\u001b[43moptions\u001b[49m\u001b[38;5;241;43m.\u001b[39;49m\u001b[43mget\u001b[49m\u001b[43m(\u001b[49m\u001b[38;5;124;43m\"\u001b[39;49m\u001b[38;5;124;43mencoding_errors\u001b[39;49m\u001b[38;5;124;43m\"\u001b[39;49m\u001b[43m,\u001b[49m\u001b[43m \u001b[49m\u001b[38;5;124;43m\"\u001b[39;49m\u001b[38;5;124;43mstrict\u001b[39;49m\u001b[38;5;124;43m\"\u001b[39;49m\u001b[43m)\u001b[49m\u001b[43m,\u001b[49m\n\u001b[0;32m   1225\u001b[0m \u001b[43m    \u001b[49m\u001b[43mstorage_options\u001b[49m\u001b[38;5;241;43m=\u001b[39;49m\u001b[38;5;28;43mself\u001b[39;49m\u001b[38;5;241;43m.\u001b[39;49m\u001b[43moptions\u001b[49m\u001b[38;5;241;43m.\u001b[39;49m\u001b[43mget\u001b[49m\u001b[43m(\u001b[49m\u001b[38;5;124;43m\"\u001b[39;49m\u001b[38;5;124;43mstorage_options\u001b[39;49m\u001b[38;5;124;43m\"\u001b[39;49m\u001b[43m,\u001b[49m\u001b[43m \u001b[49m\u001b[38;5;28;43;01mNone\u001b[39;49;00m\u001b[43m)\u001b[49m\u001b[43m,\u001b[49m\n\u001b[0;32m   1226\u001b[0m \u001b[43m\u001b[49m\u001b[43m)\u001b[49m\n\u001b[0;32m   1227\u001b[0m \u001b[38;5;28;01massert\u001b[39;00m \u001b[38;5;28mself\u001b[39m\u001b[38;5;241m.\u001b[39mhandles \u001b[38;5;129;01mis\u001b[39;00m \u001b[38;5;129;01mnot\u001b[39;00m \u001b[38;5;28;01mNone\u001b[39;00m\n\u001b[0;32m   1228\u001b[0m f \u001b[38;5;241m=\u001b[39m \u001b[38;5;28mself\u001b[39m\u001b[38;5;241m.\u001b[39mhandles\u001b[38;5;241m.\u001b[39mhandle\n",
      "File \u001b[1;32m~\\Anaconda3\\envs\\state_prep\\lib\\site-packages\\pandas\\io\\common.py:789\u001b[0m, in \u001b[0;36mget_handle\u001b[1;34m(path_or_buf, mode, encoding, compression, memory_map, is_text, errors, storage_options)\u001b[0m\n\u001b[0;32m    784\u001b[0m \u001b[38;5;28;01melif\u001b[39;00m \u001b[38;5;28misinstance\u001b[39m(handle, \u001b[38;5;28mstr\u001b[39m):\n\u001b[0;32m    785\u001b[0m     \u001b[38;5;66;03m# Check whether the filename is to be opened in binary mode.\u001b[39;00m\n\u001b[0;32m    786\u001b[0m     \u001b[38;5;66;03m# Binary mode does not support 'encoding' and 'newline'.\u001b[39;00m\n\u001b[0;32m    787\u001b[0m     \u001b[38;5;28;01mif\u001b[39;00m ioargs\u001b[38;5;241m.\u001b[39mencoding \u001b[38;5;129;01mand\u001b[39;00m \u001b[38;5;124m\"\u001b[39m\u001b[38;5;124mb\u001b[39m\u001b[38;5;124m\"\u001b[39m \u001b[38;5;129;01mnot\u001b[39;00m \u001b[38;5;129;01min\u001b[39;00m ioargs\u001b[38;5;241m.\u001b[39mmode:\n\u001b[0;32m    788\u001b[0m         \u001b[38;5;66;03m# Encoding\u001b[39;00m\n\u001b[1;32m--> 789\u001b[0m         handle \u001b[38;5;241m=\u001b[39m \u001b[38;5;28;43mopen\u001b[39;49m\u001b[43m(\u001b[49m\n\u001b[0;32m    790\u001b[0m \u001b[43m            \u001b[49m\u001b[43mhandle\u001b[49m\u001b[43m,\u001b[49m\n\u001b[0;32m    791\u001b[0m \u001b[43m            \u001b[49m\u001b[43mioargs\u001b[49m\u001b[38;5;241;43m.\u001b[39;49m\u001b[43mmode\u001b[49m\u001b[43m,\u001b[49m\n\u001b[0;32m    792\u001b[0m \u001b[43m            \u001b[49m\u001b[43mencoding\u001b[49m\u001b[38;5;241;43m=\u001b[39;49m\u001b[43mioargs\u001b[49m\u001b[38;5;241;43m.\u001b[39;49m\u001b[43mencoding\u001b[49m\u001b[43m,\u001b[49m\n\u001b[0;32m    793\u001b[0m \u001b[43m            \u001b[49m\u001b[43merrors\u001b[49m\u001b[38;5;241;43m=\u001b[39;49m\u001b[43merrors\u001b[49m\u001b[43m,\u001b[49m\n\u001b[0;32m    794\u001b[0m \u001b[43m            \u001b[49m\u001b[43mnewline\u001b[49m\u001b[38;5;241;43m=\u001b[39;49m\u001b[38;5;124;43m\"\u001b[39;49m\u001b[38;5;124;43m\"\u001b[39;49m\u001b[43m,\u001b[49m\n\u001b[0;32m    795\u001b[0m \u001b[43m        \u001b[49m\u001b[43m)\u001b[49m\n\u001b[0;32m    796\u001b[0m     \u001b[38;5;28;01melse\u001b[39;00m:\n\u001b[0;32m    797\u001b[0m         \u001b[38;5;66;03m# Binary mode\u001b[39;00m\n\u001b[0;32m    798\u001b[0m         handle \u001b[38;5;241m=\u001b[39m \u001b[38;5;28mopen\u001b[39m(handle, ioargs\u001b[38;5;241m.\u001b[39mmode)\n",
      "\u001b[1;31mFileNotFoundError\u001b[0m: [Errno 2] No such file or directory: 'E along r = 0_rods_wider_apart_Vring_3700_Vrod_540_rod_offset_150.csv'"
     ]
    }
   ],
   "source": [
    "filename = \"E along r = 0_rods_wider_apart_Vring_3700_Vrod_540_rod_offset_150.csv\"\n",
    "dataframe = pd.read_csv(filename)\n",
    "# dataframe = pd.read_csv('Electric field moving along z_1.csv')\n",
    "distance = (dataframe['Distance-350mm [mm]'].values)/1e3\n",
    "Ez = np.abs(dataframe['Ex []'].values/1e2)\n",
    "Ez_sg = savgol_filter(Ez,31,3)\n",
    "\n",
    "Ey = dataframe['Ey []'].values/1e2\n",
    "Ey_sg = savgol_filter(Ey,31,3)\n",
    "\n",
    "Ex = dataframe['Ez []'].values/1e2\n",
    "Ex_sg = savgol_filter(Ex,31,3)\n",
    "\n",
    "#Plot the electric field as function of position as a check\n",
    "fig, ax = plt.subplots()\n",
    "ax.plot(distance, Ez)\n",
    "ax.plot(distance, Ez_sg)\n",
    "\n",
    "ax.plot(distance, Ex)\n",
    "ax.plot(distance, Ex_sg)\n",
    "ax.set_xlabel(\"Z-position / m\")\n",
    "ax.set_ylabel(\"Electric field magnitude / V/cm\")\n",
    "\n",
    "# Generate interpolation function and plot it\n",
    "Ez_interp = interp1d(distance, Ez_sg, kind='cubic')\n",
    "Ex_interp = interp1d(distance, Ex_sg, kind='cubic')\n",
    "Ey_interp = interp1d(distance, Ey_sg, kind='cubic')\n",
    "\n",
    "\n",
    "#Plot on the previous figure as a check\n",
    "ax.plot(distance, Ez_interp(distance))\n",
    "ax.plot(distance, Ex_interp(distance))\n",
    "ax.plot(distance, Ey_interp(distance))\n",
    "\n",
    "# Save interpolation functions as pickle\n",
    "E_interps = [Ex_interp, Ey_interp, Ez_interp]\n",
    "\n",
    "filename = filename[:-4] + '.pickle'\n",
    "with open(filename, 'wb+') as f:\n",
    "    pickle.dump(E_interps, f)"
   ]
  },
  {
   "cell_type": "markdown",
   "metadata": {},
   "source": [
    "## Loop for multiple files"
   ]
  },
  {
   "cell_type": "code",
   "execution_count": 3,
   "metadata": {},
   "outputs": [],
   "source": [
    "filenames = [\n",
    "    'E_along_r=0_SPBv6_Var_0_Vring_4000_V_rod_0_rod_offset_700.csv',\n",
    "    'E_along_y=+10mm_SPBv6_Var_0_Vring_4000_V_rod_0_rod_offset_700.csv',\n",
    "    'E_along_y=+15mm_SPBv6_Var_0_Vring_4000_V_rod_0_rod_offset_700.csv',\n",
    "    'E_along_y=-15mm_SPBv6_Var_0_Vring_4000_V_rod_0_rod_offset_700.csv',\n",
    "    'E_along_y=-10mm_SPBv6_Var_0_Vring_4000_V_rod_0_rod_offset_700.csv',\n",
    "    'E_along_y=+20mm_SPBv6_Var_0_Vring_4000_V_rod_0_rod_offset_700.csv',\n",
    "    'E_along_y=-20mm_SPBv6_Var_0_Vring_4000_V_rod_0_rod_offset_700.csv',\n",
    "    'E_along_x=-10mm_SPBv6_Var_0_Vring_4000_V_rod_0_rod_offset_700.csv',\n",
    "    'E_along_x=+10mm_SPBv6_Var_0_Vring_4000_V_rod_0_rod_offset_700.csv',\n",
    "    # 'E_along_x=-10mm_y=-20mm_SPBv6_Var_0_Vring_2000_V_rod_0_rod_offset_400.csv',\n",
    "    # 'E_along_x=-10mm_y=20mm_SPBv6_Var_0_Vring_2000_V_rod_0_rod_offset_400.csv',\n",
    "    # 'E_along_x=10mm_y=20mm_SPBv6_Var_0_Vring_2000_V_rod_0_rod_offset_400.csv',\n",
    "    # 'E_along_x=10mm_y=-20mm_SPBv6_Var_0_Vring_2000_V_rod_0_rod_offset_400.csv',\n",
    "]"
   ]
  },
  {
   "cell_type": "code",
   "execution_count": 4,
   "metadata": {},
   "outputs": [],
   "source": [
    "for filename in filenames:\n",
    "    dataframe = pd.read_csv(filename)\n",
    "    distance = (dataframe['Distance-350mm [mm]'].values)/1e3\n",
    "    Ez = dataframe['Ex []'].values/1e2\n",
    "    Ez_sg = savgol_filter(Ez,31,3)\n",
    "\n",
    "    Ey = dataframe['Ey []'].values/1e2\n",
    "    Ey_sg = savgol_filter(Ey,31,3)\n",
    "\n",
    "    Ex = dataframe['Ez []'].values/1e2\n",
    "    Ex_sg = savgol_filter(Ex,31,3)\n",
    "\n",
    "    # Generate interpolation function and plot it\n",
    "    Ez_interp = interp1d(distance, Ez_sg, kind='cubic')\n",
    "    Ex_interp = interp1d(distance, Ex_sg, kind='cubic')\n",
    "    Ey_interp = interp1d(distance, Ey_sg, kind='cubic')\n",
    "    \n",
    "    # Save interpolation functions as pickle\n",
    "    E_interps = [Ex_interp, Ey_interp, Ez_interp]\n",
    "    \n",
    "    save_fname = filename[:-4] + '.pickle'\n",
    "    with open(save_fname, 'wb+') as f:\n",
    "        pickle.dump(E_interps, f)"
   ]
  },
  {
   "cell_type": "code",
   "execution_count": 23,
   "metadata": {},
   "outputs": [
    {
     "data": {
      "text/html": [
       "<div>\n",
       "<style scoped>\n",
       "    .dataframe tbody tr th:only-of-type {\n",
       "        vertical-align: middle;\n",
       "    }\n",
       "\n",
       "    .dataframe tbody tr th {\n",
       "        vertical-align: top;\n",
       "    }\n",
       "\n",
       "    .dataframe thead th {\n",
       "        text-align: right;\n",
       "    }\n",
       "</style>\n",
       "<table border=\"1\" class=\"dataframe\">\n",
       "  <thead>\n",
       "    <tr style=\"text-align: right;\">\n",
       "      <th></th>\n",
       "      <th>Distance [mm]</th>\n",
       "      <th>Distance-350mm [mm]</th>\n",
       "      <th>Mag_E [V_per_meter]</th>\n",
       "      <th>Distance-350mm [mm].1</th>\n",
       "      <th>Ez []</th>\n",
       "      <th>Distance-350mm [mm].2</th>\n",
       "      <th>Ex []</th>\n",
       "      <th>Distance-350mm [mm].3</th>\n",
       "      <th>Ey []</th>\n",
       "    </tr>\n",
       "  </thead>\n",
       "  <tbody>\n",
       "    <tr>\n",
       "      <th>0</th>\n",
       "      <td>0.000000</td>\n",
       "      <td>-350.000000</td>\n",
       "      <td>1856.128556</td>\n",
       "      <td>-350.000000</td>\n",
       "      <td>442.873937</td>\n",
       "      <td>-350.000000</td>\n",
       "      <td>1860.851334</td>\n",
       "      <td>-350.000000</td>\n",
       "      <td>48.928052</td>\n",
       "    </tr>\n",
       "    <tr>\n",
       "      <th>1</th>\n",
       "      <td>0.500004</td>\n",
       "      <td>-349.499996</td>\n",
       "      <td>1876.032421</td>\n",
       "      <td>-349.499996</td>\n",
       "      <td>449.210998</td>\n",
       "      <td>-349.499996</td>\n",
       "      <td>1879.426809</td>\n",
       "      <td>-349.499996</td>\n",
       "      <td>49.363145</td>\n",
       "    </tr>\n",
       "    <tr>\n",
       "      <th>2</th>\n",
       "      <td>1.000008</td>\n",
       "      <td>-348.999992</td>\n",
       "      <td>1896.029947</td>\n",
       "      <td>-348.999992</td>\n",
       "      <td>455.548059</td>\n",
       "      <td>-348.999992</td>\n",
       "      <td>1898.002285</td>\n",
       "      <td>-348.999992</td>\n",
       "      <td>49.798238</td>\n",
       "    </tr>\n",
       "    <tr>\n",
       "      <th>3</th>\n",
       "      <td>1.500012</td>\n",
       "      <td>-348.499988</td>\n",
       "      <td>1916.121328</td>\n",
       "      <td>-348.499988</td>\n",
       "      <td>461.885120</td>\n",
       "      <td>-348.499988</td>\n",
       "      <td>1916.577760</td>\n",
       "      <td>-348.499988</td>\n",
       "      <td>50.233332</td>\n",
       "    </tr>\n",
       "    <tr>\n",
       "      <th>4</th>\n",
       "      <td>2.000016</td>\n",
       "      <td>-347.999984</td>\n",
       "      <td>1936.306761</td>\n",
       "      <td>-347.999984</td>\n",
       "      <td>468.222181</td>\n",
       "      <td>-347.999984</td>\n",
       "      <td>1935.153236</td>\n",
       "      <td>-347.999984</td>\n",
       "      <td>50.668425</td>\n",
       "    </tr>\n",
       "    <tr>\n",
       "      <th>...</th>\n",
       "      <td>...</td>\n",
       "      <td>...</td>\n",
       "      <td>...</td>\n",
       "      <td>...</td>\n",
       "      <td>...</td>\n",
       "      <td>...</td>\n",
       "      <td>...</td>\n",
       "      <td>...</td>\n",
       "      <td>...</td>\n",
       "    </tr>\n",
       "    <tr>\n",
       "      <th>996</th>\n",
       "      <td>498.003984</td>\n",
       "      <td>148.003984</td>\n",
       "      <td>12393.150908</td>\n",
       "      <td>148.003984</td>\n",
       "      <td>884.390143</td>\n",
       "      <td>148.003984</td>\n",
       "      <td>12356.753626</td>\n",
       "      <td>148.003984</td>\n",
       "      <td>312.329832</td>\n",
       "    </tr>\n",
       "    <tr>\n",
       "      <th>997</th>\n",
       "      <td>498.503988</td>\n",
       "      <td>148.503988</td>\n",
       "      <td>12436.576072</td>\n",
       "      <td>148.503988</td>\n",
       "      <td>874.992065</td>\n",
       "      <td>148.503988</td>\n",
       "      <td>12401.327389</td>\n",
       "      <td>148.503988</td>\n",
       "      <td>311.857829</td>\n",
       "    </tr>\n",
       "    <tr>\n",
       "      <th>998</th>\n",
       "      <td>499.003992</td>\n",
       "      <td>149.003992</td>\n",
       "      <td>12479.539204</td>\n",
       "      <td>149.003992</td>\n",
       "      <td>864.563493</td>\n",
       "      <td>149.003992</td>\n",
       "      <td>12445.832740</td>\n",
       "      <td>149.003992</td>\n",
       "      <td>312.255775</td>\n",
       "    </tr>\n",
       "    <tr>\n",
       "      <th>999</th>\n",
       "      <td>499.503996</td>\n",
       "      <td>149.503996</td>\n",
       "      <td>12521.952668</td>\n",
       "      <td>149.503996</td>\n",
       "      <td>853.310630</td>\n",
       "      <td>149.503996</td>\n",
       "      <td>12490.106776</td>\n",
       "      <td>149.503996</td>\n",
       "      <td>313.170564</td>\n",
       "    </tr>\n",
       "    <tr>\n",
       "      <th>1000</th>\n",
       "      <td>500.004000</td>\n",
       "      <td>150.004000</td>\n",
       "      <td>12564.176597</td>\n",
       "      <td>150.004000</td>\n",
       "      <td>840.105105</td>\n",
       "      <td>150.004000</td>\n",
       "      <td>12531.152750</td>\n",
       "      <td>150.004000</td>\n",
       "      <td>313.509272</td>\n",
       "    </tr>\n",
       "  </tbody>\n",
       "</table>\n",
       "<p>1001 rows × 9 columns</p>\n",
       "</div>"
      ],
      "text/plain": [
       "      Distance [mm]  Distance-350mm [mm]  Mag_E [V_per_meter]  \\\n",
       "0          0.000000          -350.000000          1856.128556   \n",
       "1          0.500004          -349.499996          1876.032421   \n",
       "2          1.000008          -348.999992          1896.029947   \n",
       "3          1.500012          -348.499988          1916.121328   \n",
       "4          2.000016          -347.999984          1936.306761   \n",
       "...             ...                  ...                  ...   \n",
       "996      498.003984           148.003984         12393.150908   \n",
       "997      498.503988           148.503988         12436.576072   \n",
       "998      499.003992           149.003992         12479.539204   \n",
       "999      499.503996           149.503996         12521.952668   \n",
       "1000     500.004000           150.004000         12564.176597   \n",
       "\n",
       "      Distance-350mm [mm].1       Ez []  Distance-350mm [mm].2         Ex []  \\\n",
       "0               -350.000000  442.873937            -350.000000   1860.851334   \n",
       "1               -349.499996  449.210998            -349.499996   1879.426809   \n",
       "2               -348.999992  455.548059            -348.999992   1898.002285   \n",
       "3               -348.499988  461.885120            -348.499988   1916.577760   \n",
       "4               -347.999984  468.222181            -347.999984   1935.153236   \n",
       "...                     ...         ...                    ...           ...   \n",
       "996              148.003984  884.390143             148.003984  12356.753626   \n",
       "997              148.503988  874.992065             148.503988  12401.327389   \n",
       "998              149.003992  864.563493             149.003992  12445.832740   \n",
       "999              149.503996  853.310630             149.503996  12490.106776   \n",
       "1000             150.004000  840.105105             150.004000  12531.152750   \n",
       "\n",
       "      Distance-350mm [mm].3       Ey []  \n",
       "0               -350.000000   48.928052  \n",
       "1               -349.499996   49.363145  \n",
       "2               -348.999992   49.798238  \n",
       "3               -348.499988   50.233332  \n",
       "4               -347.999984   50.668425  \n",
       "...                     ...         ...  \n",
       "996              148.003984  312.329832  \n",
       "997              148.503988  311.857829  \n",
       "998              149.003992  312.255775  \n",
       "999              149.503996  313.170564  \n",
       "1000             150.004000  313.509272  \n",
       "\n",
       "[1001 rows x 9 columns]"
      ]
     },
     "execution_count": 23,
     "metadata": {},
     "output_type": "execute_result"
    }
   ],
   "source": [
    "dataframe"
   ]
  },
  {
   "cell_type": "code",
   "execution_count": 24,
   "metadata": {},
   "outputs": [
    {
     "data": {
      "text/plain": [
       "array([-0.35      , -0.3495    , -0.34899999, ...,  0.14900399,\n",
       "        0.149504  ,  0.150004  ])"
      ]
     },
     "execution_count": 24,
     "metadata": {},
     "output_type": "execute_result"
    }
   ],
   "source": [
    "distance"
   ]
  },
  {
   "cell_type": "code",
   "execution_count": 12,
   "metadata": {},
   "outputs": [
    {
     "data": {
      "text/plain": [
       "[<matplotlib.lines.Line2D at 0x188c6a4a890>]"
      ]
     },
     "execution_count": 12,
     "metadata": {},
     "output_type": "execute_result"
    },
    {
     "data": {
      "image/png": "[encoded data removed]",
      "text/plain": [
       "<Figure size 1152x648 with 1 Axes>"
      ]
     },
     "metadata": {
      "needs_background": "light"
     },
     "output_type": "display_data"
    }
   ],
   "source": [
    "#Plot the electric field as function of position as a check\n",
    "zs = np.linspace(-0.15,0.15,1000)\n",
    "\n",
    "fig, ax = plt.subplots()\n",
    "\n",
    "#Plot on the previous figure as a check\n",
    "ax.plot(zs, Ez_interp(zs))\n",
    "ax.plot(zs, Ex_interp(zs))\n",
    "ax.plot(zs, Ey_interp(zs))"
   ]
  },
  {
   "cell_type": "code",
   "execution_count": null,
   "metadata": {},
   "outputs": [],
   "source": []
  },
  {
   "cell_type": "code",
   "execution_count": null,
   "metadata": {},
   "outputs": [],
   "source": []
  }
 ],
 "metadata": {
  "kernelspec": {
   "display_name": "Python 3 (ipykernel)",
   "language": "python",
   "name": "python3"
  },
  "language_info": {
   "codemirror_mode": {
    "name": "ipython",
    "version": 3
   },
   "file_extension": ".py",
   "mimetype": "text/x-python",
   "name": "python",
   "nbconvert_exporter": "python",
   "pygments_lexer": "ipython3",
   "version": "3.10.4"
  }
 },
 "nbformat": 4,
 "nbformat_minor": 4
}
