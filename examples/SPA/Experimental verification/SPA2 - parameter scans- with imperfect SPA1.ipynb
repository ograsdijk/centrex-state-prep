{
 "cells": [
  {
   "cell_type": "markdown",
   "id": "5d5b916d-2683-4fab-b877-fb1fc1198af9",
   "metadata": {},
   "source": [
    "# SPA - J = 0 to 1\n",
    "Simulating the SPA1, i.e. transferring molecules from J = 0 to J = 0 using microwave driven adiabatic passage.\n",
    "\n",
    "## Import packages"
   ]
  },
  {
   "cell_type": "code",
   "execution_count": null,
   "id": "fd098026-d857-471e-89b4-3ab4634081a7",
   "metadata": {
    "tags": []
   },
   "outputs": [],
   "source": [
    "%load_ext autoreload\n",
    "%autoreload 2\n",
    "\n",
    "from itertools import product\n",
    "from pathlib import Path\n",
    "import random\n",
    "import string\n",
    "import time\n",
    "\n",
    "\n",
    "from joblib import Parallel, delayed\n",
    "import matplotlib.pyplot as plt\n",
    "# plt.style.use([\"seaborn-dark\"])\n",
    "# plt.rcParams[\"axes.labelsize\"] = 20\n",
    "# plt.rcParams[\"axes.titlesize\"] = 24\n",
    "# plt.rcParams[\"xtick.labelsize\"] = 18\n",
    "# plt.rcParams[\"ytick.labelsize\"] = 18\n",
    "# plt.rcParams[\"legend.fontsize\"] = 20\n",
    "# plt.rcParams['legend.title_fontsize'] = 20\n",
    "# plt.rcParams[\"font.family\"] = 'serif'\n",
    "\n",
    "plt.style.use(['seaborn-deep','thesis'])\n",
    "# plt.rcParams[\"figure.figsize\"] = (16, 9)\n",
    "# # plt.style.use(['fivethirtyeight'])\n",
    "# # Font for labels\n",
    "# plt.rcParams['font.family'] = 'serif'\n",
    "# # Linewidths for plots\n",
    "# plt.rcParams['lines.linewidth'] = 1.6\n",
    "# plt.rcParams['lines.marker'] = ''\n",
    "# # Axes\n",
    "# plt.rcParams['axes.labelsize'] = 18\n",
    "# plt.rcParams['axes.labelweight'] = 'bold'\n",
    "# plt.rcParams['axes.grid'] = True\n",
    "# plt.rcParams['axes.titlesize'] = 20\n",
    "# # Ticks\n",
    "# plt.rcParams['xtick.labelsize'] = 16\n",
    "# plt.rcParams['ytick.labelsize'] = 16\n",
    "# # Legend\n",
    "# plt.rcParams['legend.fontsize'] = 16\n",
    "\n",
    "import numpy as np\n",
    "import pandas as pd\n",
    "from scipy.interpolate import interp1d\n",
    "import seaborn as sns\n",
    "\n",
    "import centrex_TlF\n",
    "from centrex_TlF import UncoupledBasisState\n",
    "from centrex_TlF.transitions import calculate_transition_frequency\n",
    "from state_prep.electric_fields import ElectricField, E_field_ring, Ez_from_csv\n",
    "from state_prep.hamiltonians import SlowHamiltonian, SlowHamiltonianOld\n",
    "from state_prep.intensity_profiles import GaussianBeam, MeasuredBeam, BackgroundField\n",
    "from state_prep.magnetic_fields import MagneticField\n",
    "from state_prep.microwaves import Polarization, Intensity, MicrowaveField\n",
    "from state_prep.plotters import CouplingPlotter\n",
    "from state_prep.simulator import Simulator\n",
    "from state_prep.trajectory import Trajectory\n",
    "from state_prep.utils import vector_to_state"
   ]
  },
  {
   "cell_type": "markdown",
   "id": "836fc76d-752c-48b5-b291-6cbda1483349",
   "metadata": {},
   "source": [
    "## Define molecule trajectory\n",
    "Defining the molecule trajectory as a Trajectory object. Specifying the initial position as z = 50 mm, i.e. 50mm  after the center of the microwaves is, and on the axis of the beamline. Taking the beam velocity to be 200 m/s in the z-direction. The simulation ends when `zfin` is reached, 200 mm from the microwwaves."
   ]
  },
  {
   "cell_type": "code",
   "execution_count": null,
   "id": "1c2de58f-7427-4e12-8110-3a8e6aed40ad",
   "metadata": {},
   "outputs": [],
   "source": [
    "trajectory = Trajectory(Rini = np.array((0,0,-80e-3)), Vini = np.array((0,0,200.)), zfin = 200e-3)"
   ]
  },
  {
   "cell_type": "markdown",
   "id": "d0de5edb-b4ee-46ac-9295-461018f2e89f",
   "metadata": {},
   "source": [
    "## Define electric field\n",
    "Defining an electric field that is an approximation of what the molecules should see in the real experiment."
   ]
  },
  {
   "cell_type": "code",
   "execution_count": null,
   "id": "a314179c-b314-42ac-a555-94f902b2d9c0",
   "metadata": {
    "tags": []
   },
   "outputs": [],
   "source": [
    "# #Define positions for centers of ring electrodes (in m)\n",
    "# electrode_offset = 0.0\n",
    "# z1 = -85.725e-3  + electrode_offset\n",
    "# z2 = 85.725e-3 + electrode_offset\n",
    "\n",
    "# #Define voltages on the rings\n",
    "# V1 = 5e3*172/155\n",
    "# V2 = V1*0.07\n",
    "\n",
    "# #Define a quickly decaying function to simulate adding shielding between state prep region and detection region\n",
    "# decay_function = lambda R, Z0, l: np.exp(-0.5*((R[2]-Z0)*float(R[2]>Z0)/l)**2)\n",
    "# decay_tanh = lambda R,Z0,l,z_shield: .5*(1-np.tanh((R[2]-Z0)/l))\n",
    "\n",
    "# #Define electric field as function of position\n",
    "# z_shield = 0.085\n",
    "# l_decay = 0.02\n",
    "# z0 = 116.4/1e3\n",
    "\n",
    "# E_R = lambda R: ((E_field_ring(R, z0 = z1, V = V1)\n",
    "#                         + E_field_ring(R, z0 = z2, V = V2))*decay_tanh(R,z0,l_decay,z_shield))\n",
    "\n",
    "\n",
    "# Define electric field based on finite element simulations\n",
    "Ez = Ez_from_csv()\n",
    "E_R = lambda R: np.array([0,0,Ez(R[2])])\n",
    "\n",
    "\n",
    "electric_field = ElectricField(E_R, trajectory.R_t)"
   ]
  },
  {
   "cell_type": "code",
   "execution_count": null,
   "id": "23be7cd2-de79-4c96-8991-7c3ec95d4981",
   "metadata": {},
   "outputs": [],
   "source": [
    "# Plot the electric field as a check:\n",
    "ts, Es, ax = electric_field.plot(trajectory, position = True)\n",
    "\n",
    "print(f\"Max electric field: {np.max(Es):.2f} V/cm\")\n",
    "print(f\"Electric field at z = 1.125'': {E_R(np.array([0,0,0.0254*1.125]))[2]:.2f} V/cm\")"
   ]
  },
  {
   "cell_type": "markdown",
   "id": "0079b89e-19b3-43bd-91c5-4e66332d5b40",
   "metadata": {},
   "source": [
    "## Define magnetic field\n",
    "Define the magnetic field. Using a constant field, either a nominal small field (so mF states become non-degenerate eigenstates of the Hamiltonian) or something resembilng Earth's magnetic field."
   ]
  },
  {
   "cell_type": "code",
   "execution_count": null,
   "id": "824d13c1-b501-4d31-8345-d57fe3db4328",
   "metadata": {},
   "outputs": [],
   "source": [
    "B = np.array((0,0,1e-3))\n",
    "# B = np.array((0.2,0.45,0.1))\n",
    "def B_R(R):\n",
    "    if len(R.shape) == 1:\n",
    "        return B\n",
    "    else:\n",
    "        return B.reshape((3,1)) * np.ones(R.shape)\n",
    "\n",
    "magnetic_field = MagneticField(B_R, R_t = trajectory.R_t)"
   ]
  },
  {
   "cell_type": "code",
   "execution_count": null,
   "id": "3dd942e7-faf0-4bb9-bc3e-bf33efd2fab3",
   "metadata": {},
   "outputs": [],
   "source": [
    "magnetic_field.plot(trajectory)"
   ]
  },
  {
   "cell_type": "markdown",
   "id": "022c4649-13cd-492a-b026-8aa6b9567a1a",
   "metadata": {},
   "source": [
    "## Initial and final states\n",
    "Define approximate initial states here."
   ]
  },
  {
   "cell_type": "code",
   "execution_count": null,
   "id": "51a84e13-53a4-4979-8643-4484eed3abae",
   "metadata": {},
   "outputs": [],
   "source": [
    "#Define some useful approximate states\n",
    "J0_singlet = 1/np.sqrt(2) * (1*UncoupledBasisState(J = 0, mJ = 0, I1 = 1/2, m1 = 1/2, I2 = 1/2, m2 = -1/2, P = +1, Omega = 0, electronic_state='X')\n",
    "                                       -1* UncoupledBasisState(J = 0, mJ = 0, I1 = 1/2, m1 = -1/2, I2 = 1/2, m2 = 1/2, P = +1, Omega = 0, electronic_state='X'))\n",
    "\n",
    "J0_triplet_0 = 1/np.sqrt(2) * (1*UncoupledBasisState(J = 0, mJ = 0, I1 = 1/2, m1 = 1/2, I2 = 1/2, m2 = -1/2, P = +1, Omega = 0, electronic_state='X')\n",
    "                            +1* UncoupledBasisState(J = 0, mJ = 0, I1 = 1/2, m1 = -1/2, I2 = 1/2, m2 = 1/2, P = +1, Omega = 0, electronic_state='X'))\n",
    "\n",
    "J0_triplet_p = 1*UncoupledBasisState(J = 0, mJ = 0, I1 = 1/2, m1 = 1/2, I2 = 1/2, m2 = 1/2, P = +1, Omega = 0, electronic_state='X')\n",
    "\n",
    "J0_triplet_m = 1*UncoupledBasisState(J = 0, mJ = 0, I1 = 1/2, m1 = -1/2, I2 = 1/2, m2 = -1/2, P = +1, Omega = 0, electronic_state='X')\n",
    "\n",
    "initial_states_approx = [J0_singlet, J0_triplet_m, J0_triplet_0, J0_triplet_p]"
   ]
  },
  {
   "cell_type": "code",
   "execution_count": null,
   "id": "ae78d39b-30b8-48d6-90aa-c0708ca096ef",
   "metadata": {},
   "outputs": [],
   "source": [
    "#Define some useful approximate states\n",
    "J1_singlet = 1/np.sqrt(2) * (1*UncoupledBasisState(J = 1, mJ = 0, I1 = 1/2, m1 = 1/2, I2 = 1/2, m2 = -1/2, P = -1, Omega = 0, electronic_state='X')\n",
    "                                       -1* UncoupledBasisState(J = 1, mJ = 0, I1 = 1/2, m1 = -1/2, I2 = 1/2, m2 = 1/2, P = -1, Omega = 0, electronic_state='X'))\n",
    "\n",
    "J1_triplet_0 = 1/np.sqrt(2) * (1*UncoupledBasisState(J = 1, mJ = 0, I1 = 1/2, m1 = 1/2, I2 = 1/2, m2 = -1/2, P = -1, Omega = 0, electronic_state='X')\n",
    "                            +1* UncoupledBasisState(J = 1, mJ = 0, I1 = 1/2, m1 = -1/2, I2 = 1/2, m2 = 1/2, P = -1, Omega = 0, electronic_state='X'))\n",
    "\n",
    "J1_triplet_p = 1*UncoupledBasisState(J = 1, mJ = 0, I1 = 1/2, m1 = 1/2, I2 = 1/2, m2 = 1/2, P = -1, Omega = 0, electronic_state='X')\n",
    "\n",
    "J1_triplet_m = 1*UncoupledBasisState(J = 1, mJ = 0, I1 = 1/2, m1 = -1/2, I2 = 1/2, m2 = -1/2, P = -1, Omega = 0, electronic_state='X')\n",
    "\n",
    "# initial_states_approx = [J1_singlet, J1_triplet_m, J1_triplet_0, J1_triplet_p]"
   ]
  },
  {
   "cell_type": "code",
   "execution_count": null,
   "id": "a826715a-3234-4148-9b57-e6669e6466ed",
   "metadata": {},
   "outputs": [],
   "source": [
    "#Define some useful approximate states\n",
    "J2_singlet = 1/np.sqrt(2) * (1*UncoupledBasisState(J = 2, mJ = 0, I1 = 1/2, m1 = 1/2, I2 = 1/2, m2 = -1/2, P = 1, Omega = 0, electronic_state='X')\n",
    "                                       -1* UncoupledBasisState(J = 2, mJ = 0, I1 = 1/2, m1 = -1/2, I2 = 1/2, m2 = 1/2, P = 1, Omega = 0, electronic_state='X'))\n",
    "\n",
    "J2_triplet_0 = 1/np.sqrt(2) * (1*UncoupledBasisState(J = 2, mJ = 0, I1 = 1/2, m1 = 1/2, I2 = 1/2, m2 = -1/2, P = 1, Omega = 0, electronic_state='X')\n",
    "                            +1* UncoupledBasisState(J = 2, mJ = 0, I1 = 1/2, m1 = -1/2, I2 = 1/2, m2 = 1/2, P = 1, Omega = 0, electronic_state='X'))\n",
    "\n",
    "J2_triplet_p = 1*UncoupledBasisState(J = 2, mJ = 0, I1 = 1/2, m1 = 1/2, I2 = 1/2, m2 = 1/2, P = 1, Omega = 0, electronic_state='X')\n",
    "\n",
    "J2_triplet_m = 1*UncoupledBasisState(J = 2, mJ = 0, I1 = 1/2, m1 = -1/2, I2 = 1/2, m2 = -1/2, P = 1, Omega = 0, electronic_state='X')\n",
    "\n",
    "final_states_approx = [J2_singlet, J2_triplet_m, J2_triplet_0, J2_triplet_p]"
   ]
  },
  {
   "cell_type": "markdown",
   "id": "4f016dcd-ab4d-448c-b613-03d92243be13",
   "metadata": {},
   "source": [
    "## Define slowly varying Hamiltonian\n",
    "Define a Hamiltonian object that represents the slowly varying part of the Hamiltonian (i.e. everything except the microwaves). Using J = 0-3 here since we're interested in the time-evolution of J = 0 and 1 states; J = 0 and 3 are absolutely required since the electric field couples J = 0 to these, J = 3 is not strictly necessary. Since the Stark energies are << the rotational energies, we mostly just need the J of interest $\\pm 1$."
   ]
  },
  {
   "cell_type": "code",
   "execution_count": null,
   "id": "b994e8e6-bf76-4870-ab1d-906de5ff0298",
   "metadata": {},
   "outputs": [],
   "source": [
    "Js = [0,1,2,3]\n",
    "hamiltonian = SlowHamiltonian(Js, trajectory, electric_field, magnetic_field)\n",
    "# hamiltonian = SlowHamiltonianOld(0, 3, trajectory, electric_field, magnetic_field, '../hamiltonians/TlF_X_state_hamiltonian0to3_2020_03_03.pickle')"
   ]
  },
  {
   "cell_type": "markdown",
   "id": "c24ed48d-0919-4aaa-a213-f5efdd5ea453",
   "metadata": {
    "tags": []
   },
   "source": [
    "## Define microwave Hamiltonian\n",
    "We will define a microwave field with the following properties\n",
    "- A Gaussian spatial profile with 1'' intensity FWHM (cylindrically symmetric) \n",
    "- propagating along the X-direction\n",
    "- polarized along the Z-direction\n",
    "- Calculate power based on the desired Rabi rate for the desired transition"
   ]
  },
  {
   "cell_type": "markdown",
   "id": "209d56e2-fea8-4672-a7ec-e4861296c1bf",
   "metadata": {},
   "source": [
    "### J = 0 to 1 microwaves"
   ]
  },
  {
   "cell_type": "code",
   "execution_count": null,
   "id": "919f94ef-9eaf-4021-aa75-1d690ee4bded",
   "metadata": {},
   "outputs": [],
   "source": [
    "# Define states\n",
    "state1 = J0_singlet\n",
    "state2 = J1_singlet\n",
    "\n",
    "# Center position\n",
    "R0 = np.array((0.00,0,-0.0))\n",
    "\n",
    "#### Polarization:\n",
    "# Define polarization components\n",
    "p_x = np.array([1, 0, 0])\n",
    "p_y = np.array([0, 1, 0])\n",
    "p_z = np.array([0, 0, 1])\n",
    "\n",
    "# Define a function that gives the main component of the polarization as a function of position\n",
    "p_main = p_z + 0.0 * p_y\n",
    "P_R = lambda R: p_main/np.sqrt(np.sum(p_main**2))\n",
    "\n",
    "# Define k-vector\n",
    "k = np.array((1,0,0))\n",
    "pol = Polarization(P_R, k, f_long = 1)\n",
    "\n",
    "#### Frequency\n",
    "#Calculate the microwave frequency between specified states at a specific point\n",
    "muW_freq_1 = calculate_transition_frequency(state1, state2, hamiltonian.H_R(R0), hamiltonian.QN)+2e6\n",
    "print(f\"Transition frequency at center of SPA1 microwaves: {muW_freq_1/1e9:.5f} GHz\")\n",
    "\n",
    "#### Intensity profile:\n",
    "# Define a Gaussian intensity profile\n",
    "# intensity = MeasuredBeam(power = 1e-3, sigma = 1*25.4e-3/(2*np.sqrt(2*np.log(2))), R0 = R0, k = k, freq = muW_freq)\n",
    "intensity = GaussianBeam(power = 0.5e-3, sigma = 1*25.4e-3/(2*np.sqrt(2*np.log(2))), R0 = R0, k = k, freq = muW_freq_1)\n",
    "\n",
    "#### Define MicrowaveField\n",
    "mf01 = MicrowaveField(0, 1, intensity, pol, muW_freq_1, hamiltonian.QN) "
   ]
  },
  {
   "cell_type": "markdown",
   "id": "a947be19-dffe-409d-8cdd-f3dede9b6b67",
   "metadata": {},
   "source": [
    "### J = 0 to 1 background field\n",
    "Defining a field that has uniform intensity everywhere to represent microwaves randomly scattering of the vacuum chamber, windows etc"
   ]
  },
  {
   "cell_type": "code",
   "execution_count": null,
   "id": "21057969-5eae-4b89-b0a1-de742fcb4089",
   "metadata": {
    "tags": []
   },
   "outputs": [],
   "source": [
    "#### Polarization:\n",
    "# Define polarization components\n",
    "p_x = np.array([1, 0, 0])\n",
    "p_y = np.array([0, 1, 0])\n",
    "p_z = np.array([0, 0, 1])\n",
    "\n",
    "# Define a function that gives the main component of the polarization as a function of position\n",
    "p = p_z + 0.4 *p_y\n",
    "P_R = lambda R: p/np.sqrt(np.sum(p**2))\n",
    "\n",
    "\n",
    "pol_bg = Polarization(P_R)\n",
    "\n",
    "#### Intensity profile:\n",
    "\n",
    "# Define a Gaussian intensity profile\n",
    "lims = [(-1,1),(-1,1),(-1,1),]\n",
    "intensity_bg = BackgroundField(lims, intensity=mf01.intensity.I_R(R0)/70)\n",
    "\n",
    "#### Define MicrowaveField\n",
    "\n",
    "mf01_bg = MicrowaveField(0, 1, intensity_bg, pol_bg, muW_freq_1, hamiltonian.QN, background_field=True) "
   ]
  },
  {
   "cell_type": "markdown",
   "id": "522427bc-7189-4ccd-a312-328ca3ebec17",
   "metadata": {},
   "source": [
    "### J = 1 to 2 microwaves"
   ]
  },
  {
   "cell_type": "code",
   "execution_count": null,
   "id": "0d23d59f-f237-45b4-899f-b3e45a491167",
   "metadata": {},
   "outputs": [],
   "source": [
    "# Define states\n",
    "state1 = J1_singlet\n",
    "state2 = J2_singlet\n",
    "\n",
    "# Center position\n",
    "R0 = np.array((0.00,0,0.0254*1.125))\n",
    "\n",
    "#### Polarization:\n",
    "# Define polarization components\n",
    "p_x = np.array([1, 0, 0])\n",
    "p_y = np.array([0, 1, 0])\n",
    "p_z = np.array([0, 0, 1])\n",
    "\n",
    "# Define a function that gives the main component of the polarization as a function of position\n",
    "p_main = p_z + 0.2 * p_y\n",
    "P_R = lambda R: p_main/np.sqrt(np.sum(p_main**2))\n",
    "\n",
    "# Define k-vector\n",
    "k = np.array((1,0,0))\n",
    "pol = Polarization(P_R, k, f_long = 1)\n",
    "\n",
    "#### Frequency\n",
    "#Calculate the microwave frequency between specified states at a specific point\n",
    "muW_freq_2 = calculate_transition_frequency(state1, state2, hamiltonian.H_R(R0), hamiltonian.QN)\n",
    "print(f\"Transition frequency at center of SPA2 microwaves: {muW_freq_2/1e9:.5f} GHz\")\n",
    "\n",
    "#### Intensity profile:\n",
    "# Define a Gaussian intensity profile\n",
    "# intensity = MeasuredBeam(power = 1e-3, sigma = 1*25.4e-3/(2*np.sqrt(2*np.log(2))), R0 = R0, k = k, freq = muW_freq)\n",
    "intensity = GaussianBeam(power = 0.5e-3, sigma = 1*25.4e-3/(2*np.sqrt(2*np.log(2))), R0 = R0, k = k, freq = muW_freq_2)\n",
    "\n",
    "#### Define MicrowaveField\n",
    "mf12 = MicrowaveField(1, 2, intensity, pol, muW_freq_2, hamiltonian.QN)"
   ]
  },
  {
   "cell_type": "markdown",
   "id": "cb20c2d7-1bd6-44e8-8baa-b3fb42cf3cb1",
   "metadata": {},
   "source": [
    "### J = 1 to 2 background field\n",
    "Defining a field that has uniform intensity everywhere to represent microwaves randomly scattering of the vacuum chamber, windows etc"
   ]
  },
  {
   "cell_type": "code",
   "execution_count": null,
   "id": "f0913ce2-034c-4d5e-92c9-292836fe0540",
   "metadata": {},
   "outputs": [],
   "source": [
    "#### Polarization:\n",
    "# Define polarization components\n",
    "p_x = np.array([1, 0, 0])\n",
    "p_y = np.array([0, 1, 0])\n",
    "p_z = np.array([0, 0, 1])\n",
    "\n",
    "# Define a function that gives the main component of the polarization as a function of position\n",
    "p = p_z + 0.4 *p_y\n",
    "P_R = lambda R: p/np.sqrt(np.sum(p**2))\n",
    "\n",
    "\n",
    "pol_bg = Polarization(P_R)\n",
    "\n",
    "#### Intensity profile:\n",
    "# Define a Gaussian intensity profile\n",
    "lims = [(-1,1),(-1,1),(-1,1),]\n",
    "intensity_bg = BackgroundField(lims, intensity=mf01.intensity.I_R(R0)/100)\n",
    "\n",
    "#### Define MicrowaveField\n",
    "mf12_bg = MicrowaveField(1, 2, intensity_bg, pol_bg, muW_freq_2, hamiltonian.QN, background_field=True) "
   ]
  },
  {
   "cell_type": "markdown",
   "id": "7ecea577-c883-461f-a971-5c8acdb07847",
   "metadata": {},
   "source": [
    "### Define list of microwave fields"
   ]
  },
  {
   "cell_type": "code",
   "execution_count": null,
   "id": "24432b38-6553-4ccf-9494-b21430ae512f",
   "metadata": {},
   "outputs": [],
   "source": [
    "microwave_fields = [mf01, mf01_bg, mf12, mf12_bg]"
   ]
  },
  {
   "cell_type": "markdown",
   "id": "e253fb53-bd6d-47b6-b576-5901af4e4399",
   "metadata": {},
   "source": [
    "## Time-evolution\n",
    "Next define a Simulator and use it to numerically integrate the Schroedinger equation to see how the states evolve as the electric field is ramped down. "
   ]
  },
  {
   "cell_type": "code",
   "execution_count": null,
   "id": "aab33d7a-29f0-4693-b4e5-2495e1635533",
   "metadata": {},
   "outputs": [],
   "source": [
    "simulator = Simulator(trajectory, electric_field, magnetic_field, initial_states_approx, hamiltonian, microwave_fields)"
   ]
  },
  {
   "cell_type": "code",
   "execution_count": null,
   "id": "0a742bbb-c29e-4c61-8ec7-1f61d43d2a59",
   "metadata": {},
   "outputs": [],
   "source": [
    "# Set microwave parameters\n",
    "## Center postion\n",
    "R0 = np.array([0.00,0,0.0254*1.125])\n",
    "\n",
    "## Sigma\n",
    "mf12.intensity.sigma = 1.0*25.4e-3/(2*np.sqrt(2*np.log(2)))\n",
    "\n",
    "## Frequency\n",
    "freq = calculate_transition_frequency(state1, state2, hamiltonian.H_R(R0), hamiltonian.QN)\n",
    "detuning = -.4e6\n",
    "mf12.set_frequency(freq + detuning)\n",
    "mf12_bg.set_frequency(freq + detuning)\n",
    "mf12.set_position(R0)\n",
    "\n",
    "## Power\n",
    "# mf01.calculate_microwave_power(state1, state2, 2*np.pi*100e3, R0)\n",
    "mf12.set_power(1e-4)\n",
    "mf12_bg.intensity.intensity = mf12.intensity.I_R(R0)/70\n",
    "\n",
    "# Molecule parameters\n",
    "trajectory.Rini = np.array([0,0.00,-80e-3])\n",
    "trajectory.Vini = np.array([0,0,184])"
   ]
  },
  {
   "cell_type": "code",
   "execution_count": null,
   "id": "c263fdce-8915-4cb9-b0c7-f923a9607a6d",
   "metadata": {},
   "outputs": [],
   "source": [
    "result = simulator.run(N_steps = 10000)"
   ]
  },
  {
   "cell_type": "markdown",
   "id": "c524eb49-cbe7-4e18-86dd-4f0f618b403a",
   "metadata": {},
   "source": [
    "## Plot results"
   ]
  },
  {
   "cell_type": "code",
   "execution_count": null,
   "id": "14915e55-c31f-4162-bd60-4bbe1ef3e2c2",
   "metadata": {
    "tags": []
   },
   "outputs": [],
   "source": [
    "initial_state = result.initial_states[0]\n",
    "large_prob_states = result.find_large_prob_states(initial_state, N = 6)\n",
    "fig, (ax, ax2) = plt.subplots(2,1, figsize = (16,18))\n",
    "result.plot_state_probabilities(large_prob_states, initial_state, ax = ax, position = True)\n",
    "ax.legend(fontsize = 14, bbox_to_anchor = (1.1,1))\n",
    "ax.axvline(x = R0[2]*1e2, ls ='--', c = 'k')\n",
    "ax.set_title(f\"z_offset = ${R0[2]:.3f}$ m, power = ${mf12.intensity.power:.3E}$ W\")\n",
    "\n",
    "_ = electric_field.plot(trajectory, position=True, ax = ax2)"
   ]
  },
  {
   "cell_type": "markdown",
   "id": "013d3fb7-3a87-4e02-9109-1f17006a763a",
   "metadata": {},
   "source": [
    "### Plot intensity profile\n",
    "Check that the longitudinal polarization appears correctly"
   ]
  },
  {
   "cell_type": "code",
   "execution_count": null,
   "id": "db6395fb-0194-4123-8f09-b2473109d191",
   "metadata": {
    "tags": []
   },
   "outputs": [],
   "source": [
    "t_array = np.linspace(0, trajectory.get_T(), 1000)\n",
    "Rs = np.array([trajectory.R_t(t) for t in t_array])\n",
    "intensities_R = np.array([mf12.intensity.I_R(trajectory.R_t(t)) for t in t_array])\n",
    "intensities = np.array([mf12.intensity.I_R(np.array([0.0,0.0127,z])) for z in Rs[:,2]])\n",
    "\n",
    "fig, ax = plt.subplots()\n",
    "ax.plot(Rs[:,2],intensities_R)\n",
    "ax.plot(Rs[:,2],intensities)\n",
    "ax.set_xlabel(\"z-position / m\")\n",
    "ax.set_ylabel(r\"Intensity / $W/m^2$\")\n",
    "ax.axvline(x = R0[2], ls ='--', c = 'k')"
   ]
  },
  {
   "cell_type": "code",
   "execution_count": null,
   "id": "42b4da2d-2509-40b0-966e-b920d35a0fe9",
   "metadata": {},
   "outputs": [],
   "source": [
    "E_mags_R = np.array([mf12.intensity.E_R(trajectory.R_t(t)) for t in t_array])\n",
    "E_mags = np.array([mf12.intensity.E_R(np.array((0.,0.0,z))) for z in Rs[:,2]])\n",
    "\n",
    "fig, ax = plt.subplots()\n",
    "ax.plot(Rs[:,2], E_mags_R)\n",
    "# ax.plot(Rs[:,2], E_mags)\n",
    "ax.set_xlabel(\"z-position / m\")\n",
    "ax.set_ylabel(r\"Electric field / $V/cm$\")\n",
    "ax.axvline(x = R0[2], ls ='--', c = 'k')"
   ]
  },
  {
   "cell_type": "markdown",
   "id": "e9e74b18-bf88-4340-bf93-1b73c9d0fb9e",
   "metadata": {},
   "source": [
    "### Plot polarization components as function of position\n",
    "Check that the longitudinal polarization appears correctly"
   ]
  },
  {
   "cell_type": "code",
   "execution_count": null,
   "id": "cd0f4bce-f358-4b5a-81bc-74865512f480",
   "metadata": {
    "tags": []
   },
   "outputs": [],
   "source": [
    "pols = np.array([mf12.polarization.p_R(trajectory.R_t(t), mf12.intensity, freq=muW_freq_2) for t in t_array])\n",
    "\n",
    "fig, ax = plt.subplots()\n",
    "ax.plot(Rs[:,2], np.imag(pols[:,0]), label='p_x')\n",
    "ax.plot(Rs[:,2], pols[:,1], label='p_y')\n",
    "ax.plot(Rs[:,2], np.real(pols[:,2]), label='p_z')\n",
    "ax.legend()\n",
    "ax.set_xlabel(\"z-position / m\")\n",
    "ax.set_ylabel(\"Polarization component\")\n",
    "ax.axvline(x = R0[2], ls ='--', c = 'k')"
   ]
  },
  {
   "cell_type": "markdown",
   "id": "d1c079ad-4f38-4b7f-9ae6-d5e3d5563d9c",
   "metadata": {},
   "source": [
    "## Parameter scans\n",
    "### Helper functions\n",
    "Define two helper function to run the power scans:"
   ]
  },
  {
   "cell_type": "code",
   "execution_count": null,
   "id": "05a23f92-36f0-40f0-81ca-fb524505edd2",
   "metadata": {},
   "outputs": [],
   "source": [
    "def run_simulation(power: float, detuning: float, R0: np.ndarray, Rini:np.ndarray, Vini: np.ndarray, J1_state: centrex_TlF.State, target_state: centrex_TlF.State, save_path: Path = None, N_steps = 10000):\n",
    "    \"\"\"\n",
    "    Runs the simulation for one value of power and finds the probability of ending up in the target state.\n",
    "    \"\"\"\n",
    "    # Run simulator for just SPA1 so can normalize for its efficiency\n",
    "    # Set power to 0\n",
    "    mf12.set_power(1e-12)\n",
    "    mf12_bg.intensity.intensity = mf12.intensity.I_R(R0)/70*1\n",
    "    resultSPA1 = simulator.run(N_steps = N_steps)\n",
    "\n",
    "    \n",
    "    # Run simulation that includes SPA2\n",
    "    ## Microwave settings    \n",
    "    # Set position\n",
    "    mf12.set_position(R0)\n",
    "    \n",
    "    # Set frequency\n",
    "    freq = calculate_transition_frequency(state1, state2, hamiltonian.H_R(R0), hamiltonian.QN)\n",
    "    mf12.set_frequency(freq + detuning)\n",
    "    mf12_bg.set_frequency(freq + detuning)\n",
    "    mf12.set_position(R0)\n",
    "\n",
    "    # Set power\n",
    "    mf12.set_power(power)\n",
    "    mf12_bg.intensity.intensity = mf12.intensity.I_R(R0)/70*1\n",
    "    \n",
    "    # Trajectory settings\n",
    "    trajectory.Rini = Rini\n",
    "    trajectory.Vini = Vini\n",
    "    \n",
    "    # Run the simulator\n",
    "    result = simulator.run(N_steps = N_steps)\n",
    "    \n",
    "    # Save result if save path provided\n",
    "    if save_path:\n",
    "        result.save_to_pickle(save_path)\n",
    "        \n",
    "    # Determine probability to be in initial state\n",
    "    prob_J0 = result.get_state_probability(result.initial_states[0], initial_state = result.initial_states[0])[-1]\n",
    "    \n",
    "    # Determine probability to be in initial state after SPA1\n",
    "    prob_J1_ini = resultSPA1.get_state_probability(J1_state, initial_state = resultSPA1.initial_states[0])[-1]\n",
    "    \n",
    "    # Determine probability to be in initial state\n",
    "    prob_J1 = result.get_state_probability(J1_state, initial_state = result.initial_states[0])[-1]\n",
    "\n",
    "    # Determine probability to be in target state\n",
    "    prob_fin = result.get_state_probability(target_state, initial_state = result.initial_states[0])[-1]\n",
    "    \n",
    "    # Return a dataframe\n",
    "    df = pd.DataFrame({\"power\":[power], \"detuning\":[detuning], \"muw_position\": [R0], \"Rini\":[Rini], \"Vini\":[Vini],\"prob_J0\":[prob_J0], \"prob_J1_ini\":[prob_J1_ini], \"prob_J1\":[prob_J1], \"prob_fin\": [prob_fin], \"save_path\": [save_path]})\n",
    "    \n",
    "    return df"
   ]
  },
  {
   "cell_type": "code",
   "execution_count": null,
   "id": "7ba01028-f036-4606-a513-0bb02b8b164a",
   "metadata": {},
   "outputs": [],
   "source": [
    "# Define the function to be run in parallel\n",
    "def parallel_func(power = 10**(-4.1), detuning = 0, R0 = np.array([0.00,0,0.0254*1.125]), Rini = np.array((0,0,-80e-3)), Vini = np.array((0,0,184.)), save = False, N_steps = 10000):\n",
    "    save_path = SAVE_DIR / Path(f\"result_{generate_random_key()}\") if save else None\n",
    "    return run_simulation(power, detuning, R0, Rini, Vini, J1_singlet, J2_singlet, save_path=save_path, N_steps = N_steps)"
   ]
  },
  {
   "cell_type": "code",
   "execution_count": null,
   "id": "44fb7a60-3da6-4b30-980e-1fb9ce04c022",
   "metadata": {},
   "outputs": [],
   "source": [
    "# Function for generating random keys for the results\n",
    "def generate_random_key(length: int = 6):\n",
    "    return ''.join(random.choices(string.ascii_letters + string.digits, k = length))"
   ]
  },
  {
   "cell_type": "code",
   "execution_count": null,
   "id": "3c94716d-afcb-4302-9070-124bbd910e09",
   "metadata": {},
   "outputs": [],
   "source": [
    "run_simulation(mf01.intensity.power, 0, np.array([0.00,0,0.0254*1.125]), trajectory.Rini, trajectory.Vini, J1_singlet, J2_singlet, N_steps = 10000)"
   ]
  },
  {
   "cell_type": "markdown",
   "id": "19ab561e-b6e6-41c2-a727-20373fec82c5",
   "metadata": {},
   "source": [
    "### Save directory"
   ]
  },
  {
   "cell_type": "code",
   "execution_count": null,
   "id": "c5483e32-432e-4cde-95c5-62daf576f3c4",
   "metadata": {},
   "outputs": [],
   "source": [
    "SAVE_DIR = Path('../../../results/SPA2 - parameter scans')"
   ]
  },
  {
   "cell_type": "markdown",
   "id": "82fa2056-7139-4b84-a38d-00b3606cadee",
   "metadata": {},
   "source": [
    "### Power values"
   ]
  },
  {
   "cell_type": "code",
   "execution_count": null,
   "id": "b3c4ab90-cc5e-48ca-8944-d5b66fcd87e1",
   "metadata": {},
   "outputs": [],
   "source": [
    "powers = 10**((np.linspace(-70,10,36)-30)/10) # in W"
   ]
  },
  {
   "cell_type": "markdown",
   "id": "976fb253-e3e3-4b39-befa-780e42aedcd2",
   "metadata": {},
   "source": [
    "### Run power scan"
   ]
  },
  {
   "cell_type": "code",
   "execution_count": null,
   "id": "d8b660d3-8f5d-4381-9e5d-ea687225981d",
   "metadata": {},
   "outputs": [],
   "source": [
    "# Initialize parallel loop\n",
    "df = pd.concat(Parallel(n_jobs = 9, verbose = 1)(delayed(parallel_func)(power=power, detuning = -0.4e6,) for power in powers)).reset_index(drop=True)"
   ]
  },
  {
   "cell_type": "code",
   "execution_count": null,
   "id": "7edb0187-922b-4cd7-99a0-0cd84b42eca1",
   "metadata": {},
   "outputs": [],
   "source": [
    "fig, ax = plt.subplots()\n",
    "ax.plot(10*np.log10(df.power)+30, df.prob_fin)\n",
    "ax.plot(10*np.log10(df.power)+30, df.prob_J1)\n",
    "ax.set_xlabel(\"Power / dBm\")\n",
    "ax.set_ylabel(\"Populations in each state\")"
   ]
  },
  {
   "cell_type": "markdown",
   "id": "8dff79fc-00a1-4eaa-bb98-f97009364e15",
   "metadata": {},
   "source": [
    "### Run frequency scan"
   ]
  },
  {
   "cell_type": "code",
   "execution_count": null,
   "id": "cb8c49b1-3531-4bc2-99fa-4be8e7c795c3",
   "metadata": {},
   "outputs": [],
   "source": [
    "# Define detunings\n",
    "deltas = np.linspace(-2, 1, 101)*1e6 # in Hz"
   ]
  },
  {
   "cell_type": "code",
   "execution_count": null,
   "id": "a9d43028-8e1f-4371-945f-a416f46e6167",
   "metadata": {},
   "outputs": [],
   "source": [
    "# run simulations for different parameters\n",
    "df_freq = pd.concat(Parallel(n_jobs = 9, verbose = 1)(delayed(parallel_func)(power=0.5e-4, detuning=delta, N_steps=10000) for delta in deltas)).reset_index(drop=True)"
   ]
  },
  {
   "cell_type": "code",
   "execution_count": null,
   "id": "e35dc6d2-5879-4175-b052-d8d64a2b3e4d",
   "metadata": {},
   "outputs": [],
   "source": [
    "fig, ax = plt.subplots()\n",
    "ax.plot(df_freq.detuning/1e6, df_freq.prob_fin, label = 'Final state')\n",
    "ax.plot(df_freq.detuning/1e6, df_freq.prob_J1, label = 'Initial state')\n",
    "ax.set_xlabel(\"Detuning / MHz\")\n",
    "ax.set_ylabel(\"Populations after SPA2\")\n",
    "ax.grid(True)\n",
    "ax.legend()"
   ]
  },
  {
   "cell_type": "code",
   "execution_count": null,
   "id": "1aa1e70a-9b5d-4d48-852e-2ef780b9283a",
   "metadata": {},
   "outputs": [],
   "source": [
    "# Calculate efficiency of SPA2 while normalizing for efficiency of SPA1\n",
    "df_freq['SPA2_eff_dep'] = (1 - df_freq.prob_J1/df_freq.prob_J1_ini)\n",
    "df_freq['SPA2_eff_acc'] = df_freq.prob_fin/df_freq.prob_J1_ini\n",
    "\n",
    "fig, ax = plt.subplots()\n",
    "ax.plot(df_freq.detuning/1e6, df_freq.SPA2_eff_acc, label = 'Accumulation')\n",
    "ax.plot(df_freq.detuning/1e6, df_freq.SPA2_eff_dep, label = 'Depletion')\n",
    "ax.set_xlabel(\"Detuning / MHz\")\n",
    "ax.set_ylabel(\"SPA2 efficiency\")\n",
    "ax.grid(True)\n",
    "ax.legend()\n",
    "fig.savefig('../../../figures/SPA/SPA2_eff_vs_freq_bg_fields_5e-5W.pdf')"
   ]
  },
  {
   "cell_type": "code",
   "execution_count": null,
   "id": "37e7fe4e-b3e5-4cb8-b93d-f51112028ff6",
   "metadata": {},
   "outputs": [],
   "source": [
    "# df_freq.to_csv(SAVE_DIR / Path('detuning_scan_with_bg_yzpol_at_1e-4W.csv'))"
   ]
  },
  {
   "cell_type": "markdown",
   "id": "3ccdafec-d5df-4cd4-b91e-9a233458ee77",
   "metadata": {},
   "source": [
    "### Frequency scans at different powers"
   ]
  },
  {
   "cell_type": "code",
   "execution_count": null,
   "id": "abebadf5-61ac-4e3b-b25e-f6ba15b8c40a",
   "metadata": {},
   "outputs": [],
   "source": [
    "# Define detunings\n",
    "deltas = np.linspace(-2, 2, 41)*1e6 # in Hz\n",
    "powers = np.linspace(0.1,2, 10)*1e-4\n",
    "\n",
    "params = product(powers, deltas)"
   ]
  },
  {
   "cell_type": "code",
   "execution_count": null,
   "id": "a067203a-e737-43d7-aa11-475e1b5688cc",
   "metadata": {},
   "outputs": [],
   "source": [
    "# run simulations for different parameters\n",
    "df_freq = pd.concat(Parallel(n_jobs = 9, verbose = 1)(delayed(parallel_func)(power=power, detuning=delta) for power, delta in params)).reset_index(drop=True)"
   ]
  },
  {
   "cell_type": "code",
   "execution_count": null,
   "id": "d6f3a365-7f85-47cf-be4e-27920964eea7",
   "metadata": {},
   "outputs": [],
   "source": [
    "df_temp = df_freq.copy()"
   ]
  },
  {
   "cell_type": "code",
   "execution_count": null,
   "id": "d073bd69-f85a-4a3d-b3e1-3f1d87b69e12",
   "metadata": {},
   "outputs": [],
   "source": [
    "df_temp.to_csv(SAVE_DIR / Path('detuning_scans_at_different_powers - imperfect SPA1.csv'))"
   ]
  },
  {
   "cell_type": "code",
   "execution_count": null,
   "id": "9ff5926e-67b4-4699-8883-b5de30eb58f0",
   "metadata": {},
   "outputs": [],
   "source": [
    "df_temp['detuningMHz'] = df_temp.detuning/1e6\n",
    "df_temp['powermW'] = df_temp.power*1e3\n",
    "df_temp['eff_dep'] = 1-df_temp.prob_J1"
   ]
  },
  {
   "cell_type": "code",
   "execution_count": null,
   "id": "32b97e70-6de2-415b-b9e1-34e66abe7e28",
   "metadata": {},
   "outputs": [],
   "source": [
    "ax = sns.lineplot(data = df_temp, x = 'detuningMHz', y = 'prob_fin', hue = 'powermW', palette='Reds')\n",
    "# ax = sns.lineplot(data = df_temp, x = 'detuningMHz', y = 'eff_dep', hue = 'powermW', palette='Reds', ax = ax)\n",
    "\n",
    "ax.set_xlabel(\"Detuning / MHz\")\n",
    "ax.set_ylabel(\"SPA2 efficiency\")\n",
    "ax.legend(title = 'Power / mW')\n",
    "ax.grid(True)"
   ]
  },
  {
   "cell_type": "code",
   "execution_count": null,
   "id": "69177766-5e07-4d58-8aa0-3acf0359a818",
   "metadata": {},
   "outputs": [],
   "source": [
    "fig, ax = plt.subplots()\n",
    "power = df_temp.power.unique()[4]\n",
    "idx = df_temp.power == power\n",
    "ax.plot(df_temp[idx].detuningMHz, df_temp[idx].prob_fin, label = 'Accumulation')\n",
    "ax.plot(df_temp[idx].detuningMHz, df_temp[idx].eff_dep, label = 'Depletion')\n",
    "ax.set_xlabel('Detuning / MHz')\n",
    "ax.set_ylabel('Efficiency')\n",
    "ax.legend()"
   ]
  },
  {
   "cell_type": "code",
   "execution_count": null,
   "id": "fa5e1f90-d167-4c26-aa68-db407a130832",
   "metadata": {},
   "outputs": [],
   "source": [
    "df_temp = pd.read_csv(SAVE_DIR / Path('detuning_scans_at_different_powers - imperfect SPA1.csv'))\n",
    "\n",
    "df_temp['detuningMHz'] = df_temp.detuning/1e6\n",
    "df_temp['powermW'] = df_temp.power*1e3\n",
    "df_temp['eff_dep'] = 1-df_temp.prob_J1"
   ]
  },
  {
   "cell_type": "code",
   "execution_count": null,
   "id": "2b8e6e53-caed-4733-a57d-ef35e1eae183",
   "metadata": {},
   "outputs": [],
   "source": [
    "power\n"
   ]
  },
  {
   "cell_type": "code",
   "execution_count": null,
   "id": "701b2e74-f40b-4e0e-bdd6-c85f1c455d35",
   "metadata": {},
   "outputs": [],
   "source": []
  }
 ],
 "metadata": {
  "kernelspec": {
   "display_name": "Python 3 (ipykernel)",
   "language": "python",
   "name": "python3"
  },
  "language_info": {
   "codemirror_mode": {
    "name": "ipython",
    "version": 3
   },
   "file_extension": ".py",
   "mimetype": "text/x-python",
   "name": "python",
   "nbconvert_exporter": "python",
   "pygments_lexer": "ipython3",
   "version": "3.10.4"
  }
 },
 "nbformat": 4,
 "nbformat_minor": 5
}
