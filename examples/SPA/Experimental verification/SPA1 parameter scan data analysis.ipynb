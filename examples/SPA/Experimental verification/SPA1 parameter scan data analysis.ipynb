{
 "cells": [
  {
   "cell_type": "markdown",
   "id": "1b57c90b-808a-4b43-97f9-14895979f478",
   "metadata": {},
   "source": [
    "# SPA1 parameter scan data analysis\n",
    "Analyzing the data for SPA1 parameter scans\n",
    "\n",
    "## Import packages"
   ]
  },
  {
   "cell_type": "code",
   "execution_count": null,
   "id": "3fb22975-c6d8-4630-b53f-28b4fab9e21c",
   "metadata": {},
   "outputs": [],
   "source": [
    "from itertools import product\n",
    "from pathlib import Path\n",
    "import pickle\n",
    "\n",
    "import matplotlib.pyplot as plt\n",
    "plt.style.use('ggplot')\n",
    "plt.rcParams['axes.labelsize'] = 16\n",
    "plt.rcParams['legend.fontsize'] = 16\n",
    "\n",
    "import numpy as np\n",
    "import pandas as pd\n",
    "from scipy.interpolate import LinearNDInterpolator\n",
    "from scipy.integrate import nquad, quad\n",
    "from scipy.stats import norm\n",
    "from tqdm import tqdm\n",
    "tqdm.pandas()\n",
    "\n",
    "# Set some constants\n",
    "SAVE_DIR = Path('../../../results/SPA1 - parameter scans')"
   ]
  },
  {
   "cell_type": "code",
   "execution_count": null,
   "id": "bb4caaa9-3200-4067-9f62-9c01dd976c74",
   "metadata": {},
   "outputs": [],
   "source": [
    "# plt.rcParams.values()"
   ]
  },
  {
   "cell_type": "markdown",
   "id": "e4f77198-e937-4fe3-b9b1-3278d3199ec9",
   "metadata": {},
   "source": [
    "## Detuning, y-position and z-velocity\n",
    "Analyzing a scan of detuning, y-position (i.e. perpendicular to molecular and microwave beam), and z-velocity.\n",
    "### Load data"
   ]
  },
  {
   "cell_type": "code",
   "execution_count": null,
   "id": "d0cd59c2-936e-482f-a542-553fbf3f5a9e",
   "metadata": {},
   "outputs": [],
   "source": [
    "df = pd.read_csv(SAVE_DIR /  Path(\"det_pos_vel_3-31-2022.csv\"))\n",
    "df.drop(columns = 'Unnamed: 0', inplace = True)\n",
    "df['vz'] = df.apply(lambda x: float(x.Vini[1:-1].lstrip().split()[2]), axis = 1)\n",
    "df['y'] = df.apply(lambda x: float(x.Rini[1:-1].lstrip().split()[1]), axis = 1)"
   ]
  },
  {
   "cell_type": "code",
   "execution_count": null,
   "id": "2026ea2c-fbb8-4296-b872-670a418ab6ee",
   "metadata": {},
   "outputs": [],
   "source": [
    "df"
   ]
  },
  {
   "cell_type": "markdown",
   "id": "56ca1b26-fb3a-4fe6-80a8-dfeee67e5ebf",
   "metadata": {},
   "source": [
    "### Load kernel density estimates"
   ]
  },
  {
   "cell_type": "code",
   "execution_count": null,
   "id": "a6c9e7b5-e5e9-4b81-8f54-7d8b0f64d188",
   "metadata": {},
   "outputs": [],
   "source": [
    "with open('./kdes/y_dist_with_apertures.pickle', 'rb') as f:\n",
    "    kde_y = pickle.load(f)\n",
    "    \n",
    "with open('./kdes/vz_dist_with_apertures.pickle', 'rb') as f:\n",
    "    kde_vz = pickle.load(f)"
   ]
  },
  {
   "cell_type": "markdown",
   "id": "707a66f4-7409-4db7-aa16-207fcd72bb9d",
   "metadata": {},
   "source": [
    "### Weighted means instead of convoluting?\n",
    "Might be faster and simpler to just use wighted means to calculate an approximation of the convolutions.\n",
    "\n",
    "Calculate weights for each parameter combination:"
   ]
  },
  {
   "cell_type": "code",
   "execution_count": null,
   "id": "68890d26-cb7f-4cd5-a1f7-4944d19e0ca1",
   "metadata": {},
   "outputs": [],
   "source": [
    "df[\"weights\"] = df.progress_apply(lambda x: kde_y(x.y)[0]*kde_vz(x.vz)[0], axis = 1)"
   ]
  },
  {
   "cell_type": "code",
   "execution_count": null,
   "id": "ce6cad49-071b-4c23-8bcf-265c886a9adf",
   "metadata": {},
   "outputs": [],
   "source": [
    "weight_sum = df.weights.sum()"
   ]
  },
  {
   "cell_type": "code",
   "execution_count": null,
   "id": "f9c32e3f-44cc-4c20-8e00-14095f5d1ff2",
   "metadata": {},
   "outputs": [],
   "source": [
    "sums = df.groupby('detuning').apply(lambda x: sum(x.prob_fin * x.weights))\n",
    "weight_sums =  df.groupby('detuning').apply(lambda x: sum(x.weights))\n",
    "weighted_means = (sums/weight_sums).to_frame('prob_fin').reset_index()\n",
    "\n",
    "sums_ini = df.groupby('detuning').apply(lambda x: sum(x.prob_ini * x.weights))\n",
    "weight_sums_ini =  df.groupby('detuning').apply(lambda x: sum(x.weights))\n",
    "weighted_means_ini = (sums_ini/weight_sums_ini).to_frame('prob_ini').reset_index()\n",
    "\n",
    "weighted_means = weighted_means.merge(weighted_means_ini, on = 'detuning')"
   ]
  },
  {
   "cell_type": "code",
   "execution_count": null,
   "id": "9136ed9e-849b-49e3-9e88-ae8324f0817e",
   "metadata": {},
   "outputs": [],
   "source": [
    "fig, ax = plt.subplots(figsize = (16,9))\n",
    "ax.plot(weighted_means.detuning/1e6, weighted_means.prob_fin, label = 'P_fin')\n",
    "ax.plot(weighted_means.detuning/1e6, weighted_means.prob_ini, label = 'P_ini')\n",
    "ax.set_xlabel('Detuning / MHz')\n",
    "ax.set_ylabel('Probability')\n",
    "ax.legend()"
   ]
  },
  {
   "cell_type": "markdown",
   "id": "32bda840-97d0-4bc6-ab31-d6a2a5a4fd4a",
   "metadata": {},
   "source": [
    "### Compare to not using weighted means"
   ]
  },
  {
   "cell_type": "code",
   "execution_count": null,
   "id": "810d911f-e87e-4f17-8ac9-a7ca044b6fd3",
   "metadata": {},
   "outputs": [],
   "source": [
    "fig, ax = plt.subplots(figsize = (16,9))\n",
    "\n",
    "index = df.apply(lambda x: (x.vz == 200) & (x.y == 0), axis = 1)\n",
    "df[index].groupby('detuning').prob_fin.mean().plot(ax = ax)\n",
    "df[index].groupby('detuning').prob_ini.mean().plot(ax = ax)"
   ]
  },
  {
   "cell_type": "markdown",
   "id": "fae807ba-141d-4abc-89a6-40b45ca901f2",
   "metadata": {},
   "source": [
    "## ** The code below takes an unknown but very long time to run **\n",
    "### Interpolation function for probabilities as function of velocity and position"
   ]
  },
  {
   "cell_type": "code",
   "execution_count": null,
   "id": "b702cfd1-34d4-4d8b-bd31-0b596e6ca728",
   "metadata": {
    "collapsed": true,
    "jupyter": {
     "outputs_hidden": true
    },
    "tags": []
   },
   "outputs": [],
   "source": [
    "def find_prob(detuning, y, vz):\n",
    "    return df.query(f'(detuning=={detuning}) & (y=={y}) & (vz=={vz})').prob_fin.values[0]\n",
    "\n",
    "points = (df.detuning.unique(), df.y.unique(), df.vz.unique())\n",
    "\n",
    "points, values = zip(*[(point, find_prob(*point)) for point in tqdm(product(*points))])\n",
    "\n",
    "prob_interp = LinearNDInterpolator(list(points), values, rescale = True)"
   ]
  },
  {
   "cell_type": "code",
   "execution_count": null,
   "id": "641f76e1-5620-4327-a3b3-866d24c92f8e",
   "metadata": {},
   "outputs": [],
   "source": [
    "prob_interp(0,0,200)"
   ]
  },
  {
   "cell_type": "code",
   "execution_count": null,
   "id": "1d74b310-9be3-4856-943f-0b80b311f4eb",
   "metadata": {},
   "outputs": [],
   "source": [
    "kde_y(0.004)"
   ]
  },
  {
   "cell_type": "code",
   "execution_count": null,
   "id": "a83f42b8-9b4e-41a8-91ca-270fff546f17",
   "metadata": {},
   "outputs": [],
   "source": [
    "class GaussianDistr:\n",
    "    def __init__(self, mu, sigma, lims = (180,220)):\n",
    "        self._norm = norm\n",
    "        self.sigma = sigma\n",
    "        self.mu = mu\n",
    "        self.lims = lims\n",
    "        \n",
    "        self.integral = self.calculate_integral()\n",
    "    \n",
    "    def pdf(self, x):\n",
    "        if self.lims[0] < x < self.lims[1]:\n",
    "            return self._norm.pdf(x, loc = self.mu, scale = self.sigma)/self.integral\n",
    "        else:\n",
    "            return 0\n",
    "    \n",
    "    def calculate_integral(self):\n",
    "        return quad(lambda x: self._norm.pdf(x, loc = self.mu, scale = self.sigma), self.lims[0], self.lims[1])[0]"
   ]
  },
  {
   "cell_type": "code",
   "execution_count": null,
   "id": "7640ca8b-94b4-4cdd-9002-8362eaa56fe2",
   "metadata": {},
   "outputs": [],
   "source": [
    "distr = GaussianDistr(184, 16)"
   ]
  },
  {
   "cell_type": "code",
   "execution_count": null,
   "id": "1079c2a5-a7df-4b67-8001-033bd69a1619",
   "metadata": {},
   "outputs": [],
   "source": [
    "distr.integral"
   ]
  },
  {
   "cell_type": "code",
   "execution_count": null,
   "id": "632d6d63-ae20-4279-8399-0623ae8973a3",
   "metadata": {},
   "outputs": [],
   "source": [
    "distr.pdf(184)"
   ]
  },
  {
   "cell_type": "markdown",
   "id": "f3bd3bca-1506-4536-901c-497eb607e5c2",
   "metadata": {},
   "source": [
    "### Convolve probabilities for each detuning with the y-position and z-velocity distributions"
   ]
  },
  {
   "cell_type": "code",
   "execution_count": null,
   "id": "6bd2b0b1-5abc-4543-beee-3ea904a4d720",
   "metadata": {},
   "outputs": [],
   "source": [
    "def convolve(prob_interp, detuning, distrs, ranges):\n",
    "    \"\"\"\n",
    "    Convolves the probabilities in prob interp with distributions in distrs. \n",
    "    Ranges defines integration range for each distribution.\n",
    "    \"\"\"\n",
    "    def func(*args):\n",
    "        result = prob_interp(*args)\n",
    "        for i in range(len(distrs)):\n",
    "            result = result * distrs[i].pdf(args[i])\n",
    "        return result\n",
    "    return nquad(func, ranges, args = [detuning])"
   ]
  },
  {
   "cell_type": "code",
   "execution_count": null,
   "id": "c63d54c6-d7ef-4e24-b26e-00a44727f2fe",
   "metadata": {
    "collapsed": true,
    "jupyter": {
     "outputs_hidden": true
    },
    "tags": []
   },
   "outputs": [],
   "source": [
    "%%time\n",
    "def prob_interp_ordered(vz, y, detuning):\n",
    "    return prob_interp(detuning, y, vz)\n",
    "\n",
    "distrs = [kde_y, GaussianDistr(200, 16)]\n",
    "ranges = [(-0.03, 0.03),(180,220)]\n",
    "convolve(prob_interp_ordered, 0,  distrs, ranges)"
   ]
  },
  {
   "cell_type": "code",
   "execution_count": null,
   "id": "c1e632f9-0145-49f1-8dd9-aa2845d6d5ea",
   "metadata": {
    "collapsed": true,
    "jupyter": {
     "outputs_hidden": true
    },
    "tags": []
   },
   "outputs": [],
   "source": [
    "probs = []\n",
    "for detuning in df.detuning.unique():\n",
    "    convolve(prob_interp_ordered, detuning,  distrs, ranges)"
   ]
  }
 ],
 "metadata": {
  "kernelspec": {
   "display_name": "Python 3 (ipykernel)",
   "language": "python",
   "name": "python3"
  },
  "language_info": {
   "codemirror_mode": {
    "name": "ipython",
    "version": 3
   },
   "file_extension": ".py",
   "mimetype": "text/x-python",
   "name": "python",
   "nbconvert_exporter": "python",
   "pygments_lexer": "ipython3",
   "version": "3.10.4"
  }
 },
 "nbformat": 4,
 "nbformat_minor": 5
}
