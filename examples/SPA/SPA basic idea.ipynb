{
 "cells": [
  {
   "cell_type": "markdown",
   "id": "1cd63c24-b40c-4f7f-9d53-352ae9b66edb",
   "metadata": {},
   "source": [
    "# Basic SPA\n",
    "Simulating the SPA, i.e. transferring molecules from J = 0 to J = 2 using microwave driven adiabatic passage. Taking the microwave beam distributions to be perfect Gaussians and no scattered microwaves. Used for making illustrations.\n",
    "\n",
    "## Import packages"
   ]
  },
  {
   "cell_type": "code",
   "execution_count": null,
   "id": "474c261b-2a17-4697-a085-5c661f420e1e",
   "metadata": {
    "tags": []
   },
   "outputs": [],
   "source": [
    "%load_ext autoreload\n",
    "%autoreload 2\n",
    "\n",
    "from itertools import product\n",
    "from pathlib import Path\n",
    "import random\n",
    "import string\n",
    "import time\n",
    "\n",
    "\n",
    "from joblib import Parallel, delayed\n",
    "import matplotlib.pyplot as plt\n",
    "plt.style.use([\"seaborn-darkgrid\",\"thesis\"])\n",
    "\n",
    "import numpy as np\n",
    "import pandas as pd\n",
    "from scipy.interpolate import interp1d\n",
    "import seaborn as sns\n",
    "\n",
    "import centrex_TlF\n",
    "from centrex_TlF import UncoupledBasisState\n",
    "from centrex_TlF.transitions import calculate_transition_frequency\n",
    "from state_prep.electric_fields import ElectricField, E_field_ring, Ez_from_csv\n",
    "from state_prep.hamiltonians import SlowHamiltonian, SlowHamiltonianOld\n",
    "from state_prep.intensity_profiles import GaussianBeam, MeasuredBeam, BackgroundField\n",
    "from state_prep.magnetic_fields import MagneticField\n",
    "from state_prep.microwaves import Polarization, Intensity, MicrowaveField\n",
    "from state_prep.plotters import CouplingPlotter\n",
    "from state_prep.simulator import Simulator\n",
    "from state_prep.trajectory import Trajectory\n",
    "from state_prep.utils import vector_to_state"
   ]
  },
  {
   "cell_type": "markdown",
   "id": "70b33d91-5f38-4074-bcda-6934bf0dd382",
   "metadata": {},
   "source": [
    "## Define molecule trajectory\n",
    "Defining the molecule trajectory as a Trajectory object. Specifying the initial position as z = 50 mm, i.e. 50mm  after the center of the microwaves is, and on the axis of the beamline. Taking the beam velocity to be 200 m/s in the z-direction. The simulation ends when `zfin` is reached, 200 mm from the microwwaves."
   ]
  },
  {
   "cell_type": "code",
   "execution_count": null,
   "id": "d8f693fe-7fb9-41a2-b901-5131dcec34d2",
   "metadata": {},
   "outputs": [],
   "source": [
    "trajectory = Trajectory(Rini = np.array((0,0,-80e-3)), Vini = np.array((0,0,200.)), zfin = 80e-3)"
   ]
  },
  {
   "cell_type": "markdown",
   "id": "64ef3dd1-6021-4f3f-8179-16d92581a20d",
   "metadata": {},
   "source": [
    "## Define electric field\n",
    "Defining an electric field that is an approximation of what the molecules should see in the real experiment."
   ]
  },
  {
   "cell_type": "code",
   "execution_count": null,
   "id": "03f83f48-82e9-4ca9-9b66-71a8559076e8",
   "metadata": {
    "tags": []
   },
   "outputs": [],
   "source": [
    "#Define positions for centers of ring electrodes (in m)\n",
    "electrode_offset = 0.0\n",
    "z1 = -85.725e-3  + electrode_offset\n",
    "z2 = 85.725e-3 + electrode_offset\n",
    "\n",
    "#Define voltages on the rings\n",
    "V1 = 5e3*172/155\n",
    "V2 = V1*0.07\n",
    "\n",
    "#Define a quickly decaying function to simulate adding shielding between state prep region and detection region\n",
    "decay_function = lambda R, Z0, l: np.exp(-0.5*((R[2]-Z0)*float(R[2]>Z0)/l)**2)\n",
    "decay_tanh = lambda R,Z0,l,z_shield: .5*(1-np.tanh((R[2]-Z0)/l))\n",
    "\n",
    "#Define electric field as function of position\n",
    "z_shield = 0.085\n",
    "l_decay = 0.02\n",
    "z0 = 116.4/1e3\n",
    "\n",
    "E_R = lambda R: ((E_field_ring(R, z0 = z1, V = V1)\n",
    "                        + E_field_ring(R, z0 = z2, V = V2))*decay_tanh(R,z0,l_decay,z_shield))\n",
    "\n",
    "\n",
    "# Define electric field based on finite element simulations\n",
    "# Ez = Ez_from_csv()\n",
    "# E_R = lambda R: np.array([0,0,Ez(R[2])])\n",
    "\n",
    "\n",
    "electric_field = ElectricField(E_R, trajectory.R_t)"
   ]
  },
  {
   "cell_type": "code",
   "execution_count": null,
   "id": "49fea9de-5647-42ce-a1ae-fd9a8d8ea633",
   "metadata": {},
   "outputs": [],
   "source": [
    "# Plot the electric field as a check:\n",
    "ts, Es, ax = electric_field.plot(trajectory, position = True)\n",
    "\n",
    "print(f\"Max electric field: {np.max(Es):.2f} V/cm\")\n",
    "print(f\"Electric field at z = 1.125'': {E_R(np.array([0,0,0.0254*1.125]))[2]:.2f} V/cm\")"
   ]
  },
  {
   "cell_type": "markdown",
   "id": "e0401fea-3bf5-43f3-ace8-e56ad4951295",
   "metadata": {},
   "source": [
    "## Define magnetic field\n",
    "Define the magnetic field. Using a constant field, either a nominal small field (so mF states become non-degenerate eigenstates of the Hamiltonian) or something resembilng Earth's magnetic field."
   ]
  },
  {
   "cell_type": "code",
   "execution_count": null,
   "id": "a0ebb01c-24d0-4e05-9c78-a3dc9e3ee53c",
   "metadata": {},
   "outputs": [],
   "source": [
    "B = np.array((0,0,1e-3))\n",
    "# B = np.array((0.2,0.45,0.1))\n",
    "def B_R(R):\n",
    "    if len(R.shape) == 1:\n",
    "        return B\n",
    "    else:\n",
    "        return B.reshape((3,1)) * np.ones(R.shape)\n",
    "\n",
    "magnetic_field = MagneticField(B_R, R_t = trajectory.R_t)"
   ]
  },
  {
   "cell_type": "code",
   "execution_count": null,
   "id": "49de8200-4740-45f9-9748-922f313aaa34",
   "metadata": {},
   "outputs": [],
   "source": [
    "magnetic_field.plot(trajectory)"
   ]
  },
  {
   "cell_type": "markdown",
   "id": "6ef74591-2af3-4a6e-b8ce-50591ff18ed8",
   "metadata": {},
   "source": [
    "## Initial and final states\n",
    "Define approximate initial states here."
   ]
  },
  {
   "cell_type": "code",
   "execution_count": null,
   "id": "11f092d9-5d93-48bc-956a-0774b15c0231",
   "metadata": {},
   "outputs": [],
   "source": [
    "#Define some useful approximate states\n",
    "J0_singlet = 1/np.sqrt(2) * (1*UncoupledBasisState(J = 0, mJ = 0, I1 = 1/2, m1 = 1/2, I2 = 1/2, m2 = -1/2, P = +1, Omega = 0, electronic_state='X')\n",
    "                                       -1* UncoupledBasisState(J = 0, mJ = 0, I1 = 1/2, m1 = -1/2, I2 = 1/2, m2 = 1/2, P = +1, Omega = 0, electronic_state='X'))\n",
    "\n",
    "J0_triplet_0 = 1/np.sqrt(2) * (1*UncoupledBasisState(J = 0, mJ = 0, I1 = 1/2, m1 = 1/2, I2 = 1/2, m2 = -1/2, P = +1, Omega = 0, electronic_state='X')\n",
    "                            +1* UncoupledBasisState(J = 0, mJ = 0, I1 = 1/2, m1 = -1/2, I2 = 1/2, m2 = 1/2, P = +1, Omega = 0, electronic_state='X'))\n",
    "\n",
    "J0_triplet_p = 1*UncoupledBasisState(J = 0, mJ = 0, I1 = 1/2, m1 = 1/2, I2 = 1/2, m2 = 1/2, P = +1, Omega = 0, electronic_state='X')\n",
    "\n",
    "J0_triplet_m = 1*UncoupledBasisState(J = 0, mJ = 0, I1 = 1/2, m1 = -1/2, I2 = 1/2, m2 = -1/2, P = +1, Omega = 0, electronic_state='X')\n",
    "\n",
    "initial_states_approx = [J0_singlet, J0_triplet_m, J0_triplet_0, J0_triplet_p]"
   ]
  },
  {
   "cell_type": "code",
   "execution_count": null,
   "id": "8acdb11e-2465-4fb4-ba4a-6887639096f7",
   "metadata": {},
   "outputs": [],
   "source": [
    "#Define some useful approximate states\n",
    "J1_singlet = 1/np.sqrt(2) * (1*UncoupledBasisState(J = 1, mJ = 0, I1 = 1/2, m1 = 1/2, I2 = 1/2, m2 = -1/2, P = -1, Omega = 0, electronic_state='X')\n",
    "                                       -1* UncoupledBasisState(J = 1, mJ = 0, I1 = 1/2, m1 = -1/2, I2 = 1/2, m2 = 1/2, P = -1, Omega = 0, electronic_state='X'))\n",
    "\n",
    "J1_triplet_0 = 1/np.sqrt(2) * (1*UncoupledBasisState(J = 1, mJ = 0, I1 = 1/2, m1 = 1/2, I2 = 1/2, m2 = -1/2, P = -1, Omega = 0, electronic_state='X')\n",
    "                            +1* UncoupledBasisState(J = 1, mJ = 0, I1 = 1/2, m1 = -1/2, I2 = 1/2, m2 = 1/2, P = -1, Omega = 0, electronic_state='X'))\n",
    "\n",
    "J1_triplet_p = 1*UncoupledBasisState(J = 1, mJ = 0, I1 = 1/2, m1 = 1/2, I2 = 1/2, m2 = 1/2, P = -1, Omega = 0, electronic_state='X')\n",
    "\n",
    "J1_triplet_m = 1*UncoupledBasisState(J = 1, mJ = 0, I1 = 1/2, m1 = -1/2, I2 = 1/2, m2 = -1/2, P = -1, Omega = 0, electronic_state='X')\n",
    "\n",
    "# initial_states_approx = [J1_singlet, J1_triplet_m, J1_triplet_0, J1_triplet_p]"
   ]
  },
  {
   "cell_type": "code",
   "execution_count": null,
   "id": "4aec5a7f-ff98-4ef1-acb2-9ca38f7887af",
   "metadata": {},
   "outputs": [],
   "source": [
    "#Define some useful approximate states\n",
    "J2_singlet = 1/np.sqrt(2) * (1*UncoupledBasisState(J = 2, mJ = 0, I1 = 1/2, m1 = 1/2, I2 = 1/2, m2 = -1/2, P = 1, Omega = 0, electronic_state='X')\n",
    "                                       -1* UncoupledBasisState(J = 2, mJ = 0, I1 = 1/2, m1 = -1/2, I2 = 1/2, m2 = 1/2, P = 1, Omega = 0, electronic_state='X'))\n",
    "\n",
    "J2_triplet_0 = 1/np.sqrt(2) * (1*UncoupledBasisState(J = 2, mJ = 0, I1 = 1/2, m1 = 1/2, I2 = 1/2, m2 = -1/2, P = 1, Omega = 0, electronic_state='X')\n",
    "                            +1* UncoupledBasisState(J = 2, mJ = 0, I1 = 1/2, m1 = -1/2, I2 = 1/2, m2 = 1/2, P = 1, Omega = 0, electronic_state='X'))\n",
    "\n",
    "J2_triplet_p = 1*UncoupledBasisState(J = 2, mJ = 0, I1 = 1/2, m1 = 1/2, I2 = 1/2, m2 = 1/2, P = 1, Omega = 0, electronic_state='X')\n",
    "\n",
    "J2_triplet_m = 1*UncoupledBasisState(J = 2, mJ = 0, I1 = 1/2, m1 = -1/2, I2 = 1/2, m2 = -1/2, P = 1, Omega = 0, electronic_state='X')\n",
    "\n",
    "final_states_approx = [J2_singlet, J2_triplet_m, J2_triplet_0, J2_triplet_p]"
   ]
  },
  {
   "cell_type": "markdown",
   "id": "b07be9a6-0738-4eda-b788-62a1809aa783",
   "metadata": {},
   "source": [
    "## Define slowly varying Hamiltonian\n",
    "Define a Hamiltonian object that represents the slowly varying part of the Hamiltonian (i.e. everything except the microwaves). Using J = 0-3 here since we're interested in the time-evolution of J = 0 and 1 states; J = 0 and 3 are absolutely required since the electric field couples J = 0 to these, J = 3 is not strictly necessary. Since the Stark energies are << the rotational energies, we mostly just need the J of interest $\\pm 1$."
   ]
  },
  {
   "cell_type": "code",
   "execution_count": null,
   "id": "c3318022-5519-4689-ac28-a21f727371b0",
   "metadata": {},
   "outputs": [],
   "source": [
    "Js = [0,1,2,3]\n",
    "hamiltonian = SlowHamiltonian(Js, trajectory, electric_field, magnetic_field)\n",
    "# hamiltonian = SlowHamiltonianOld(0, 3, trajectory, electric_field, magnetic_field, '../hamiltonians/TlF_X_state_hamiltonian0to3_2020_03_03.pickle')"
   ]
  },
  {
   "cell_type": "markdown",
   "id": "710a30c1-d4a5-4bdd-874e-ad33e81883f1",
   "metadata": {
    "tags": []
   },
   "source": [
    "## Define microwave Hamiltonian\n",
    "We will define a microwave field with the following properties\n",
    "- A Gaussian spatial profile with 1'' intensity FWHM (cylindrically symmetric) \n",
    "- propagating along the X-direction\n",
    "- polarized along the Z-direction\n",
    "- Calculate power based on the desired Rabi rate for the desired transition"
   ]
  },
  {
   "cell_type": "markdown",
   "id": "c865fc58-32ac-4099-b99a-a8343dda430e",
   "metadata": {},
   "source": [
    "### J = 0 to 1 microwaves"
   ]
  },
  {
   "cell_type": "code",
   "execution_count": null,
   "id": "84aa7e97-6b42-4824-8fc3-e3fd04a4d091",
   "metadata": {},
   "outputs": [],
   "source": [
    "# Define states\n",
    "state1 = J0_singlet\n",
    "state2 = J1_singlet\n",
    "\n",
    "# Center position\n",
    "R0 = np.array((0.00,0,-0.0))\n",
    "\n",
    "#### Polarization:\n",
    "# Define polarization components\n",
    "p_x = np.array([1, 0, 0])\n",
    "p_y = np.array([0, 1, 0])\n",
    "p_z = np.array([0, 0, 1])\n",
    "\n",
    "# Define a function that gives the main component of the polarization as a function of position\n",
    "p_main = p_z + 0.0 * p_y\n",
    "P_R = lambda R: p_main/np.sqrt(np.sum(p_main**2))\n",
    "\n",
    "# Define k-vector\n",
    "k = np.array((1,0,0))\n",
    "pol = Polarization(P_R, k, f_long = 0)\n",
    "\n",
    "#### Frequency\n",
    "#Calculate the microwave frequency between specified states at a specific point\n",
    "detuning_1 = 0\n",
    "muW_freq_1 = calculate_transition_frequency(state1, state2, hamiltonian.H_R(R0), hamiltonian.QN) + detuning_1\n",
    "print(f\"Transition frequency at center of SPA1 microwaves: {muW_freq_1/1e9:.5f} GHz\")\n",
    "\n",
    "#### Intensity profile:\n",
    "# Define a Gaussian intensity profile\n",
    "# intensity = MeasuredBeam(power = 1e-3, sigma = 1*25.4e-3/(2*np.sqrt(2*np.log(2))), R0 = R0, k = k, freq = muW_freq)\n",
    "intensity = GaussianBeam(power = 0.2e-3, sigma = 1*25.4e-3/(2*np.sqrt(2*np.log(2))), R0 = R0, k = k, freq = muW_freq_1)\n",
    "\n",
    "#### Define MicrowaveField\n",
    "mf01 = MicrowaveField(0, 1, intensity, pol, muW_freq_1, hamiltonian.QN) "
   ]
  },
  {
   "cell_type": "code",
   "execution_count": null,
   "id": "3cac944b-7ddc-41de-8560-367a05295f4b",
   "metadata": {},
   "outputs": [],
   "source": [
    "mf01.calculate_rabi_rate(state1, state2, 0.2e-3, R0)/(2*np.pi*1e3)"
   ]
  },
  {
   "cell_type": "markdown",
   "id": "dc6fb48b-d176-4a2c-b8a7-0bc089d5b2a8",
   "metadata": {},
   "source": [
    "### J = 1 to 2 microwaves"
   ]
  },
  {
   "cell_type": "code",
   "execution_count": null,
   "id": "a5df3f24-8bc3-4e8c-9e79-00a7601b9fa7",
   "metadata": {},
   "outputs": [],
   "source": [
    "# Define states\n",
    "state1 = J1_singlet\n",
    "state2 = J2_singlet\n",
    "\n",
    "# Center position\n",
    "R0 = np.array((0.00,0,0.0254*1.125))\n",
    "\n",
    "#### Polarization:\n",
    "# Define polarization components\n",
    "p_x = np.array([1, 0, 0])\n",
    "p_y = np.array([0, 1, 0])\n",
    "p_z = np.array([0, 0, 1])\n",
    "\n",
    "# Define a function that gives the main component of the polarization as a function of position\n",
    "p_main = p_z + 0.0 * p_y\n",
    "P_R = lambda R: p_main/np.sqrt(np.sum(p_main**2))\n",
    "\n",
    "# Define k-vector\n",
    "k = np.array((1,0,0))\n",
    "pol = Polarization(P_R, k, f_long = 0)\n",
    "\n",
    "#### Frequency\n",
    "#Calculate the microwave frequency between specified states at a specific point\n",
    "muW_freq_2 = calculate_transition_frequency(state1, state2, hamiltonian.H_R(R0), hamiltonian.QN)\n",
    "print(f\"Transition frequency at center of SPA2 microwaves: {muW_freq_2/1e9:.5f} GHz\")\n",
    "\n",
    "#### Intensity profile:\n",
    "# Define a Gaussian intensity profile\n",
    "# intensity = MeasuredBeam(power = 1e-3, sigma = 1*25.4e-3/(2*np.sqrt(2*np.log(2))), R0 = R0, k = k, freq = muW_freq)\n",
    "intensity = GaussianBeam(power = 0.2e-3, sigma = 1*25.4e-3/(2*np.sqrt(2*np.log(2))), R0 = R0, k = k, freq = muW_freq_2)\n",
    "\n",
    "#### Define MicrowaveField\n",
    "mf12 = MicrowaveField(1, 2, intensity, pol, muW_freq_2, hamiltonian.QN)"
   ]
  },
  {
   "cell_type": "code",
   "execution_count": null,
   "id": "685c8140-831c-4aee-a49e-40eaf909c309",
   "metadata": {},
   "outputs": [],
   "source": [
    "mf12.calculate_rabi_rate(state1, state2, 0.05e-3, R0)/(2*np.pi*1e3)"
   ]
  },
  {
   "cell_type": "markdown",
   "id": "4b6c04dc-7396-4738-960d-02ed06d2476d",
   "metadata": {},
   "source": [
    "### Define list of microwave fields"
   ]
  },
  {
   "cell_type": "code",
   "execution_count": null,
   "id": "8767142b-5af5-4f38-943f-73849aef1570",
   "metadata": {},
   "outputs": [],
   "source": [
    "microwave_fields = [mf01, mf12]"
   ]
  },
  {
   "cell_type": "markdown",
   "id": "fb8e1ad9-aa7a-41ff-9efa-c0b6992c523e",
   "metadata": {},
   "source": [
    "## Time-evolution\n",
    "Next define a Simulator and use it to numerically integrate the Schroedinger equation to see how the states evolve as the electric field is ramped down. "
   ]
  },
  {
   "cell_type": "code",
   "execution_count": null,
   "id": "e9532ff5-4646-4cac-9889-2f8b0cfa859f",
   "metadata": {},
   "outputs": [],
   "source": [
    "simulator = Simulator(trajectory, electric_field, magnetic_field, initial_states_approx, hamiltonian, microwave_fields)"
   ]
  },
  {
   "cell_type": "code",
   "execution_count": null,
   "id": "cd16fbcd-9d92-4b72-ae96-73c26a1b33ac",
   "metadata": {},
   "outputs": [],
   "source": [
    "# Set microwave parameters\n",
    "## Center postion\n",
    "R0 = np.array([0.00,0,0.0254*1.125])\n",
    "\n",
    "## Sigma\n",
    "mf12.intensity.sigma = 1.0*25.4e-3/(2*np.sqrt(2*np.log(2)))\n",
    "\n",
    "## Frequency\n",
    "freq = calculate_transition_frequency(state1, state2, hamiltonian.H_R(R0), hamiltonian.QN)\n",
    "detuning = 0\n",
    "mf12.set_frequency(freq + detuning)\n",
    "mf12.set_position(R0)\n",
    "\n",
    "## Power\n",
    "# mf01.calculate_microwave_power(state1, state2, 2*np.pi*100e3, R0)\n",
    "mf12.set_power(5e-5)\n",
    "\n",
    "# Molecule parameters\n",
    "trajectory.Rini = np.array([0,0.00,-80e-3])\n",
    "trajectory.Vini = np.array([0,0,184])\n",
    "trajectory.zfin = 100e-3\n"
   ]
  },
  {
   "cell_type": "code",
   "execution_count": null,
   "id": "c9726daa-8b8d-4449-b2e1-c145001f58b5",
   "metadata": {},
   "outputs": [],
   "source": [
    "result = simulator.run(N_steps = 10000)"
   ]
  },
  {
   "cell_type": "markdown",
   "id": "e2068c8a-fbf4-4897-b6e3-cffe65053971",
   "metadata": {},
   "source": [
    "## Plot results"
   ]
  },
  {
   "cell_type": "code",
   "execution_count": null,
   "id": "84d79ba0-d793-43bd-8f28-8a3c2070c959",
   "metadata": {
    "tags": []
   },
   "outputs": [],
   "source": [
    "initial_state = result.initial_states[0]\n",
    "large_prob_states = result.find_large_prob_states(initial_state, N = 6)\n",
    "fig, (ax, ax2) = plt.subplots(2,1, figsize = (16,18))\n",
    "result.plot_state_probabilities(large_prob_states, initial_state, ax = ax, position = True)\n",
    "ax.legend(fontsize = 14, bbox_to_anchor = (1.1,1))\n",
    "ax.axvline(x = R0[2]*1e2, ls ='--', c = 'k')\n",
    "ax.set_title(f\"z_offset = ${R0[2]:.3f}$ m, power = ${mf12.intensity.power:.3E}$ W\")\n",
    "\n",
    "Es, _, _ = electric_field.plot(trajectory, position=True, ax = ax2)"
   ]
  },
  {
   "cell_type": "markdown",
   "id": "b22c341a-dbee-404e-a6ba-47b36e092555",
   "metadata": {},
   "source": [
    "### Plot intensity profile\n",
    "Check that the longitudinal polarization appears correctly"
   ]
  },
  {
   "cell_type": "code",
   "execution_count": null,
   "id": "4842a982-bc99-4872-a4b2-ace31b46e045",
   "metadata": {
    "tags": []
   },
   "outputs": [],
   "source": [
    "t_array = np.linspace(0, trajectory.get_T(), 1000)\n",
    "Rs = np.array([trajectory.R_t(t) for t in t_array])\n",
    "intensities_R = np.array([mf12.intensity.I_R(trajectory.R_t(t)) for t in t_array])\n",
    "intensities = np.array([mf12.intensity.I_R(np.array([0.0,0.0127,z])) for z in Rs[:,2]])\n",
    "\n",
    "fig, ax = plt.subplots()\n",
    "ax.plot(Rs[:,2],intensities_R)\n",
    "ax.plot(Rs[:,2],intensities)\n",
    "ax.set_xlabel(\"z-position / m\")\n",
    "ax.set_ylabel(r\"Intensity / $W/m^2$\")\n",
    "ax.axvline(x = R0[2], ls ='--', c = 'k')"
   ]
  },
  {
   "cell_type": "code",
   "execution_count": null,
   "id": "f861c6b0-d125-48f2-98bb-9a8aacd2add9",
   "metadata": {},
   "outputs": [],
   "source": [
    "E_mags_R = np.array([mf12.intensity.E_R(trajectory.R_t(t)) for t in t_array])\n",
    "E_mags = np.array([mf12.intensity.E_R(np.array((0.,0.0,z))) for z in Rs[:,2]])\n",
    "\n",
    "fig, ax = plt.subplots()\n",
    "ax.plot(Rs[:,2], E_mags_R)\n",
    "# ax.plot(Rs[:,2], E_mags)\n",
    "ax.set_xlabel(\"z-position / m\")\n",
    "ax.set_ylabel(r\"Electric field / $V/cm$\")\n",
    "ax.axvline(x = R0[2], ls ='--', c = 'k')"
   ]
  },
  {
   "cell_type": "markdown",
   "id": "a0289078-8182-46c3-a76b-593463ac1d62",
   "metadata": {},
   "source": [
    "### Plot polarization components as function of position\n",
    "Check that the longitudinal polarization appears correctly"
   ]
  },
  {
   "cell_type": "code",
   "execution_count": null,
   "id": "489de663-1024-42c3-9062-cd292ef99569",
   "metadata": {
    "tags": []
   },
   "outputs": [],
   "source": [
    "pols = np.array([mf12.polarization.p_R(trajectory.R_t(t), mf12.intensity, freq=muW_freq_2) for t in t_array])\n",
    "\n",
    "fig, ax = plt.subplots()\n",
    "ax.plot(Rs[:,2], np.imag(pols[:,0]), label='p_x')\n",
    "ax.plot(Rs[:,2], pols[:,1], label='p_y')\n",
    "ax.plot(Rs[:,2], np.real(pols[:,2]), label='p_z')\n",
    "ax.legend()\n",
    "ax.set_xlabel(\"z-position / m\")\n",
    "ax.set_ylabel(\"Polarization component\")\n",
    "ax.axvline(x = R0[2], ls ='--', c = 'k')"
   ]
  },
  {
   "cell_type": "markdown",
   "id": "5b525fb2-096c-42d3-8250-d0ee15a526f7",
   "metadata": {},
   "source": [
    "### Nice plot for paper"
   ]
  },
  {
   "cell_type": "code",
   "execution_count": null,
   "id": "4cd5dea7-319e-470c-991d-79da418a9083",
   "metadata": {},
   "outputs": [],
   "source": [
    "# Set up plot\n",
    "fig, (ax1, ax2) = plt.subplots(2,1, figsize = (210/25.4, 297*2/3/25.4) , constrained_layout = True)\n",
    "\n",
    "# Add some extra space between axes\n",
    "# plt.subplots_adjust(hspace = 0.5)\n",
    "\n",
    "\n",
    "# Find detunings\n",
    "E0 = result.get_state_energy(J0_singlet)\n",
    "E1 = result.get_state_energy(J1_singlet)\n",
    "E2 = result.get_state_energy(J2_singlet)\n",
    "\n",
    "D01 = (E1 - E0)/(2*np.pi*1e6) - muW_freq_1/1e6\n",
    "D12 = (E2 - E1)/(2*np.pi*1e6) - muW_freq_2/1e6\n",
    "\n",
    "# Find electric field\n",
    "Ezs = np.array([electric_field.E_R(trajectory.R_t(t))[2] for t in result.t_array])\n",
    "\n",
    "# Find intensities for each microwave\n",
    "I01 = np.array([mf01.intensity.I_R(trajectory.R_t(t)) for t in result.t_array])/mf01.intensity.I_R(np.array((0,0,0)))\n",
    "I12 = np.array([mf12.intensity.I_R(trajectory.R_t(t)) for t in result.t_array])/mf12.intensity.I_R(np.array([0.00,0,0.0254*1.125]))\n",
    "\n",
    "# Find probabilities for each state\n",
    "P0 = result.get_state_probability(J0_singlet, initial_state=result.initial_states[0])\n",
    "P1 = result.get_state_probability(J1_singlet, initial_state=result.initial_states[0])\n",
    "P2 = result.get_state_probability(J2_singlet, initial_state=result.initial_states[0])\n",
    "\n",
    "# Plot electric field\n",
    "ax1_twin = ax1.twinx()\n",
    "ax1_twin.grid(False)\n",
    "l11 = ax1_twin.plot(result.z_array, Ezs, 'k--', alpha = 0.5, label = r'$\\mathrm{E_z}$')\n",
    "\n",
    "# Plot detunings\n",
    "ax1.axhline(0, c = 'k', lw = 2, alpha = 0.9)\n",
    "l12 = ax1.plot(result.z_array, D01, label = r'$\\Delta_{01}$')\n",
    "l13 = ax1.plot(result.z_array, D12, label = r'$\\Delta_{12}$')\n",
    "\n",
    "# Plot intensities\n",
    "ax2_twin = ax2.twinx()\n",
    "ax2_twin.grid(False)\n",
    "l21 = ax2_twin.fill_between(result.z_array, I01, label = r'I$_{01}$', alpha = 0.2)\n",
    "l22 = ax2_twin.fill_between(result.z_array, I12, label = r'I$_{12}$', alpha = 0.2)\n",
    "\n",
    "# Plot state probabilities\n",
    "l23 = ax2.plot(result.z_array, P0, label = r'$|J = 0, m_J = 0\\rangle$')\n",
    "l24 = ax2.plot(result.z_array, P1, label = r'$|J = 1, m_J = 0\\rangle$')\n",
    "l25 = ax2.plot(result.z_array, P2, label = r'$|J = 2, m_J = 0\\rangle$')\n",
    "\n",
    "# Add axis labes\n",
    "ax1.set_ylabel('Detuning / MHz')\n",
    "ax1_twin.set_ylabel(r'E$_z$ / V/cm')\n",
    "ax2.set_xlabel('Z-position / m')\n",
    "ax2.set_ylabel('Population in state')\n",
    "ax2_twin.set_ylabel('Relative microwave\\nintensity / a.u.')\n",
    "\n",
    "# Make legends\n",
    "lns1 = l12 + l13 + l11\n",
    "lbs1 = [l.get_label() for l in lns1]\n",
    "ax1.legend(lns1, lbs1)\n",
    "\n",
    "lns2 = l23 + l24 + l25 + [l21] + [l22]\n",
    "lbs2 = [l.get_label() for l in lns2]\n",
    "ax2.legend(lns2, lbs2)\n",
    "\n",
    "# Save the figure\n",
    "# plt.savefig('../../../figures/naive_state_evolution.pdf')\n",
    "\n",
    "# ALso save the data for the plot\n",
    "df = pd.DataFrame({\n",
    "    \"z_pos\":result.z_array,\n",
    "    \"D01\": D01,\n",
    "    \"D12\": D12,\n",
    "    \"Ez\":Ezs,\n",
    "    \"I01\":I01,\n",
    "    \"I12\":I12,\n",
    "    \"P0\": P0,\n",
    "    \"P1\": P1,\n",
    "    \"P2\": P2,\n",
    "                  })\n",
    "\n",
    "# df.to_csv('../../../figures/data/data_naive_state_evolution.csv')"
   ]
  }
 ],
 "metadata": {
  "kernelspec": {
   "display_name": "Python 3 (ipykernel)",
   "language": "python",
   "name": "python3"
  },
  "language_info": {
   "codemirror_mode": {
    "name": "ipython",
    "version": 3
   },
   "file_extension": ".py",
   "mimetype": "text/x-python",
   "name": "python",
   "nbconvert_exporter": "python",
   "pygments_lexer": "ipython3",
   "version": "3.10.4"
  }
 },
 "nbformat": 4,
 "nbformat_minor": 5
}
