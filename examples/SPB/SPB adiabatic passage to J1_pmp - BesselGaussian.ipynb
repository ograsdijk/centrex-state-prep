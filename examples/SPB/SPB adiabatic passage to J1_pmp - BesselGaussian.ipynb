{
 "cells": [
  {
   "cell_type": "markdown",
   "id": "7f9c6ecc-3335-4c27-97d4-6ab5623e9eb1",
   "metadata": {},
   "source": [
    "# SPB - J = 2 to 1\n",
    "Simulating the SPB, i.e. transferring molecules from J = 2, MJ = 0 to J = 1, |m_J| = 1 using microwave driven adiabatic passage.\n",
    "\n",
    "## Import packages"
   ]
  },
  {
   "cell_type": "code",
   "execution_count": null,
   "id": "0862482e-0e26-49df-b800-ccab96a87a84",
   "metadata": {
    "tags": []
   },
   "outputs": [],
   "source": [
    "%load_ext autoreload\n",
    "%autoreload 2\n",
    "\n",
    "from itertools import product\n",
    "from pathlib import Path\n",
    "import random\n",
    "import string\n",
    "import time\n",
    "\n",
    "\n",
    "from joblib import Parallel, delayed\n",
    "import matplotlib.pyplot as plt\n",
    "plt.style.use(['seaborn-darkgrid', 'thesis'])\n",
    "# plt.rcParams[\"figure.figsize\"] = (16, 9)\n",
    "\n",
    "# plt.style.use(['fivethirtyeight'])\n",
    "# Font for labels\n",
    "# plt.rcParams['font.family'] = 'serif'\n",
    "# # Linewidths for plots\n",
    "# plt.rcParams['lines.linewidth'] = 1.6\n",
    "# plt.rcParams['lines.marker'] = ''\n",
    "# # Axes\n",
    "# plt.rcParams['axes.labelsize'] = 18\n",
    "# plt.rcParams['axes.labelweight'] = 'bold'\n",
    "# plt.rcParams['axes.grid'] = True\n",
    "# plt.rcParams['axes.titlesize'] = 18\n",
    "# # Ticks\n",
    "# plt.rcParams['xtick.labelsize'] = 16\n",
    "# plt.rcParams['ytick.labelsize'] = 16\n",
    "# # Legend\n",
    "# plt.rcParams['legend.fontsize'] = 16\n",
    "\n",
    "import numpy as np\n",
    "import pandas as pd\n",
    "from scipy.interpolate import interp1d\n",
    "# import seaborn as sns\n",
    "\n",
    "import centrex_tlf\n",
    "from centrex_tlf.states import UncoupledBasisState, ElectronicState\n",
    "from state_prep.utils import calculate_transition_frequency\n",
    "from state_prep.electric_fields import ElectricField, E_field_ring, E_SPB_from_pickle\n",
    "from state_prep.hamiltonians import SlowHamiltonian, SlowHamiltonianOld\n",
    "from state_prep.intensity_profiles import GaussianBeam, MeasuredBeam, BackgroundField, BesselGaussianBeam\n",
    "from state_prep.magnetic_fields import MagneticField\n",
    "from state_prep.microwaves import Polarization, Intensity, MicrowaveField\n",
    "from state_prep.plotters import CouplingPlotter\n",
    "from state_prep.simulator import Simulator\n",
    "from state_prep.trajectory import Trajectory\n",
    "from state_prep.utils import vector_to_state, reorder_evecs, matrix_to_states, find_max_overlap_idx"
   ]
  },
  {
   "cell_type": "markdown",
   "id": "a0073772-690b-4615-a36c-a31f22fb1d4e",
   "metadata": {},
   "source": [
    "## Define molecule trajectory\n",
    "Defining the molecule trajectory as a Trajectory object. Specifying the initial position as z = 50 mm, i.e. 50mm  after the center of the microwaves is, and on the axis of the beamline. Taking the beam velocity to be 200 m/s in the z-direction. The simulation ends when `zfin` is reached, 200 mm from the microwwaves."
   ]
  },
  {
   "cell_type": "code",
   "execution_count": null,
   "id": "4be7556b-4e6c-46b2-bd02-345b22caa065",
   "metadata": {},
   "outputs": [],
   "source": [
    "trajectory = Trajectory(Rini = np.array((0,0,-150e-3)), Vini = np.array((0,0,184.)), zfin = 150e-3)"
   ]
  },
  {
   "cell_type": "markdown",
   "id": "8e830e43-d558-4f71-ab3a-76b619a9b8e7",
   "metadata": {},
   "source": [
    "## Define electric field\n",
    "Defining an electric field that is an approximation of what the molecules should see in the real experiment."
   ]
  },
  {
   "cell_type": "code",
   "execution_count": null,
   "id": "8bb651ef-27f8-4512-b387-a86c897e9ce5",
   "metadata": {
    "tags": []
   },
   "outputs": [],
   "source": [
    "# Define electric field based on finite element simulations\n",
    "E_interp = E_SPB_from_pickle('E_along_r=0_SPBv6_Var_0_Vring_2000_V_rod_0_rod_offset_400.pickle')\n",
    "E0 = 75\n",
    "E_R = lambda R: E_interp(R[2])*E0/np.linalg.norm(E_interp(0))\n",
    "\n",
    "electric_field = ElectricField(E_R, trajectory.R_t)"
   ]
  },
  {
   "cell_type": "code",
   "execution_count": null,
   "id": "ea3a4639-bff5-44df-9805-45aa401931b6",
   "metadata": {},
   "outputs": [],
   "source": [
    "# Plot the electric field as a check:\n",
    "ts, Es, ax = electric_field.plot(trajectory, position = True)\n",
    "\n",
    "print(f\"Max electric field: {np.max(Es):.2f} V/cm\")\n",
    "print(f\"Electric field at z = 0: {E_R(np.array([0,0,0]))[2]:.2f} V/cm\")"
   ]
  },
  {
   "cell_type": "markdown",
   "id": "cfa53b5c-6e14-4bdd-b986-6a0f3101e4dd",
   "metadata": {},
   "source": [
    "## Define magnetic field\n",
    "Define the magnetic field. Using a constant field, either a nominal small field (so mF states become non-degenerate eigenstates of the Hamiltonian) or something resembilng Earth's magnetic field."
   ]
  },
  {
   "cell_type": "code",
   "execution_count": null,
   "id": "5028904a-cc6c-4bfa-a0e6-c051e2d12c09",
   "metadata": {},
   "outputs": [],
   "source": [
    "B = np.array((0,0,1e-4))\n",
    "# B = np.array((0.2,0.45,0.1))\n",
    "def B_R(R):\n",
    "    if len(R.shape) == 1:\n",
    "        return B\n",
    "    else:\n",
    "        return B.reshape((3,1)) * np.ones(R.shape)\n",
    "\n",
    "magnetic_field = MagneticField(B_R, R_t = trajectory.R_t)"
   ]
  },
  {
   "cell_type": "code",
   "execution_count": null,
   "id": "34a03395-ef9e-46fa-a2b7-7853728b088c",
   "metadata": {},
   "outputs": [],
   "source": [
    "magnetic_field.plot(trajectory)"
   ]
  },
  {
   "cell_type": "markdown",
   "id": "ffcdeb25-e53c-4d24-83ee-5addd48c5f3f",
   "metadata": {},
   "source": [
    "## Initial and final states\n",
    "Define approximate initial states here."
   ]
  },
  {
   "cell_type": "code",
   "execution_count": null,
   "id": "f4d87f10-6562-4dc9-9e78-fd205889b55c",
   "metadata": {},
   "outputs": [],
   "source": [
    "#Define useful approximate states\n",
    "#Lens states\n",
    "J2_singlet = 1/np.sqrt(2) * (1*UncoupledBasisState(J = 2, mJ = 0, I1 = 1/2, m1 = 1/2, I2 = 1/2, m2 = -1/2, P = +1, Omega = 0, electronic_state='X')\n",
    "                            -1* UncoupledBasisState(J = 2, mJ = 0, I1 = 1/2, m1 = -1/2, I2 = 1/2, m2 = 1/2, P = +1, Omega = 0, electronic_state='X'))\n",
    "\n",
    "J2_triplet_0 = 1/np.sqrt(2) * (1*UncoupledBasisState(J = 2, mJ = 0, I1 = 1/2, m1 = 1/2, I2 = 1/2, m2 = -1/2, P = +1, Omega = 0, electronic_state='X')\n",
    "                            +1* UncoupledBasisState(J = 2, mJ = 0, I1 = 1/2, m1 = -1/2, I2 = 1/2, m2 = 1/2, P = +1, Omega = 0, electronic_state='X'))\n",
    "\n",
    "J2_triplet_p = 1*UncoupledBasisState(J = 2, mJ = 0, I1 = 1/2, m1 = 1/2, I2 = 1/2, m2 = 1/2, P = +1, Omega = 0, electronic_state='X')\n",
    "\n",
    "J2_triplet_m = 1*UncoupledBasisState(J = 2, mJ = 0, I1 = 1/2, m1 = -1/2, I2 = 1/2, m2 = -1/2, P = +1, Omega = 0, electronic_state='X')\n",
    "\n",
    "J2_mJ1pp = 1*UncoupledBasisState(J = 2, mJ = 1, I1 = 1/2, m1 = 1/2, I2 = 1/2, m2 = 1/2, P = +1, Omega = 0, electronic_state='X')\n",
    "\n",
    "\n",
    "#J = 1, m_J = +/-1 states\n",
    "J1_ppp = 1*UncoupledBasisState(J = 1, mJ = 1, I1 = 1/2, m1 = 1/2, I2 = 1/2, m2 = 1/2, P = -1, Omega = 0, electronic_state='X')\n",
    "J1_ppm = 1*UncoupledBasisState(J = 1, mJ = 1, I1 = 1/2, m1 = 1/2, I2 = 1/2, m2 = -1/2, P = -1, Omega = 0, electronic_state='X')\n",
    "J1_pmp = 1*UncoupledBasisState(J = 1, mJ = 1, I1 = 1/2, m1 = -1/2, I2 = 1/2, m2 = 1/2, P = -1, Omega = 0, electronic_state='X')\n",
    "J1_pmm = 1*UncoupledBasisState(J = 1, mJ = 1, I1 = 1/2, m1 = -1/2, I2 = 1/2, m2 = -1/2, P = -1, Omega = 0, electronic_state='X')\n",
    "J1_mpp = 1*UncoupledBasisState(J = 1, mJ = -1, I1 = 1/2, m1 = 1/2, I2 = 1/2, m2 = 1/2, P = -1, Omega = 0, electronic_state='X')\n",
    "J1_mpm = 1*UncoupledBasisState(J = 1, mJ = -1, I1 = 1/2, m1 = 1/2, I2 = 1/2, m2 = -1/2, P = -1, Omega = 0, electronic_state='X')\n",
    "J1_mmp = 1*UncoupledBasisState(J = 1, mJ = -1, I1 = 1/2, m1 = -1/2, I2 = 1/2, m2 = 1/2, P = -1, Omega = 0, electronic_state='X')\n",
    "J1_mmm = 1*UncoupledBasisState(J = 1, mJ = -1, I1 = 1/2, m1 = -1/2, I2 = 1/2, m2 = -1/2, P = -1, Omega = 0, electronic_state='X')\n",
    "\n",
    "#L and I are superposition states, define them here\n",
    "J1_L = (J1_pmm - J1_mpp)/np.sqrt(2)\n",
    "J1_I = (J1_pmm + J1_mpp)/np.sqrt(2)\n",
    "\n",
    "initial_states_approx_z = [J2_singlet, J2_triplet_m, J2_triplet_0, J2_triplet_p]\n",
    "final_state = J1_pmp"
   ]
  },
  {
   "cell_type": "markdown",
   "id": "dd4b0813-4850-4da4-854a-acee8264e32e",
   "metadata": {},
   "source": [
    "## Define slowly varying Hamiltonian\n",
    "Define a Hamiltonian object that represents the slowly varying part of the Hamiltonian (i.e. everything except the microwaves). Using J = 0-3 here since we're interested in the time-evolution of J = 0 and 1 states; J = 0 and 3 are absolutely required since the electric field couples J = 0 to these, J = 3 is not strictly necessary. Since the Stark energies are << the rotational energies, we mostly just need the J of interest $\\pm 1$."
   ]
  },
  {
   "cell_type": "code",
   "execution_count": null,
   "id": "206af303-1821-48fd-82d6-4e851a688af5",
   "metadata": {},
   "outputs": [],
   "source": [
    "Js = [0,1,2,3]\n",
    "hamiltonian = SlowHamiltonian(Js, trajectory, electric_field, magnetic_field)\n",
    "# hamiltonian = SlowHamiltonianOld(0, 3, trajectory, electric_field, magnetic_field, '../hamiltonians/TlF_X_state_hamiltonian0to3_2020_03_03.pickle')"
   ]
  },
  {
   "cell_type": "markdown",
   "id": "5c6e628f-0d10-4c45-92e6-0b661220a0e0",
   "metadata": {
    "tags": []
   },
   "source": [
    "## Find what state at t = 0 corresponds to the desired initial states\n",
    "At t = 0 the electric field is not along z, so the eigenstates look different. Track the staet evolution from a perfectly along z-field to the field at t = 0 zero to make sure we pick the correct initial states"
   ]
  },
  {
   "cell_type": "code",
   "execution_count": null,
   "id": "493ec746-811f-4408-97b5-41d2fa33b26a",
   "metadata": {},
   "outputs": [],
   "source": [
    "E_t0 = electric_field.E_t(0)\n",
    "magE0 = np.sqrt(np.sum(E_t0**2))"
   ]
  },
  {
   "cell_type": "markdown",
   "id": "1db8e3be-bde6-4cec-9c01-1e364b502212",
   "metadata": {},
   "source": [
    "Start with the electric field perfectly along z and then add some of the non-z component to the electric field while keeping track of whihc state corresponds to which"
   ]
  },
  {
   "cell_type": "code",
   "execution_count": null,
   "id": "4d4f95b4-db2b-4404-82e0-d944b8a27686",
   "metadata": {},
   "outputs": [],
   "source": [
    "# Define values for Ex and Ey that slowly tend to towards the actual values at t=0\n",
    "Exs = np.linspace(0, E_t0[0], 100)\n",
    "Eys = np.linspace(0, E_t0[1], 100)\n",
    "\n",
    "# Store energies of each state for checking later\n",
    "energies = np.empty((len(Exs), len(hamiltonian.QN)))\n",
    "\n",
    "# Find the eigenvectors when the electric field is fully along z\n",
    "H_z = hamiltonian.H_EB(np.array([0,0,magE0]), magnetic_field.B_t(0))\n",
    "E_ref, V_ref = np.linalg.eigh(H_z)\n",
    "V_ref_ini = V_ref\n",
    "\n",
    "# Find the indices of the states of interest\n",
    "idxs = [find_max_overlap_idx(state.state_vector(hamiltonian.QN), V_ref_ini) for state in initial_states_approx_z]\n",
    "\n",
    "# Loop over Ex and Ey and keep track of which state corresponds to which\n",
    "for i, (Ex, Ey) in enumerate(zip(Exs, Eys)):\n",
    "    Ez = np.sqrt(magE0**2 - Ex**2 - Ey**2)\n",
    "    H = hamiltonian.H_EB(np.array([Ex,Ey, Ez]), magnetic_field.B_t(0))\n",
    "    D, V = np.linalg.eigh(H)\n",
    "    \n",
    "    # Reorder eigenvectors and energies\n",
    "    Es, evecs = reorder_evecs(V, D, V_ref)\n",
    "    \n",
    "    V_ref = evecs\n",
    "    energies[i,:] = Es\n",
    "\n",
    "# Set the states in the rotated electric field as the initial states\n",
    "initial_states_approx = matrix_to_states(V_ref[:, idxs], hamiltonian.QN)"
   ]
  },
  {
   "cell_type": "markdown",
   "id": "8bc3a591-fb50-4b52-8955-8ab469bc0ad5",
   "metadata": {},
   "source": [
    "Define a function to map states with E along z to initial direction of E"
   ]
  },
  {
   "cell_type": "code",
   "execution_count": null,
   "id": "90b9a18b-c0d8-44ac-94d0-01195a95f24f",
   "metadata": {},
   "outputs": [],
   "source": [
    "def map_state(state):\n",
    "    # Find index of state\n",
    "    idx = find_max_overlap_idx(state.state_vector(hamiltonian.QN), V_ref_ini)\n",
    "    \n",
    "    # Return state\n",
    "    return vector_to_state(V_ref[:,idx], hamiltonian.QN)\n",
    "\n",
    "def map_state_reverse(state):\n",
    "    # Find index of state\n",
    "    idx = find_max_overlap_idx(state.state_vector(hamiltonian.QN), V_ref)\n",
    "    \n",
    "    # Return state\n",
    "    return vector_to_state(V_ref_ini[:,idx], hamiltonian.QN)"
   ]
  },
  {
   "cell_type": "markdown",
   "id": "805029dc-3239-46a4-a2da-87a94f6cb027",
   "metadata": {
    "tags": []
   },
   "source": [
    "## Define microwave Hamiltonian\n",
    "We will define a microwave field with the following properties\n",
    "- A Gaussian spatial profile with 1'' intensity FWHM (cylindrically symmetric) \n",
    "- propagating along the X-direction\n",
    "- polarized along the Z-direction\n",
    "- Calculate power based on the desired Rabi rate for the desired transition"
   ]
  },
  {
   "cell_type": "markdown",
   "id": "cc24b8f3-0e77-4a26-869d-b5441c7484e1",
   "metadata": {},
   "source": [
    "### J = 1 to 2 microwaves"
   ]
  },
  {
   "cell_type": "code",
   "execution_count": null,
   "id": "0e3745fb-aae3-4e0d-9b72-ccb9c56e9c77",
   "metadata": {},
   "outputs": [],
   "source": [
    "# Define states\n",
    "state1 = J2_singlet\n",
    "state2 = J1_pmp\n",
    "# state2 = J1_ppm\n",
    "\n",
    "# Center position\n",
    "R0 = np.array((0.00,0,0.0))\n",
    "\n",
    "#### Polarization:\n",
    "# Define polarization components\n",
    "p_x = np.array([1, 0, 0])\n",
    "p_y = np.array([0, 1, 0])\n",
    "p_z = np.array([0, 0, 1])\n",
    "p_plus = np.array([1, -1j, 0])/np.sqrt(2)\n",
    "p_minus = np.array([1, +1j, 0])/np.sqrt(2)\n",
    "\n",
    "# Define a function that gives the main component of the polarization (in xyz basis) as a function of position\n",
    "theta = 0/180*np.pi\n",
    "p_main = np.cos(theta/2)* p_plus + np.sin(theta/2)*p_minus + 0.*p_z\n",
    "# p_main = p_x+p_y+p_z\n",
    "P_R = lambda R: p_main/np.sqrt(np.sum(np.abs(p_main)**2))\n",
    "\n",
    "# Define k-vector (in XYZ coordinates)\n",
    "k = np.array((1,0,0))\n",
    "pol = Polarization(P_R, k, f_long = 1, dir_long = np.array([0,0,1]))\n",
    "\n",
    "#### Frequency\n",
    "#Calculate the microwave frequency between specified states at a specific point\n",
    "muW_freq_2 = calculate_transition_frequency(state1, state2, hamiltonian.H_R(R0), hamiltonian.QN)\n",
    "print(f\"Transition frequency at center of SPB microwaves: {muW_freq_2/1e9:.5f} GHz\")\n",
    "\n",
    "#### Intensity profile:\n",
    "# Define a Gaussian intensity profile\n",
    "intensity = BesselGaussianBeam(power = 1e-3, w0 = 4.56e-2, alpha = 78.9, R0 = R0, k = k, freq = muW_freq_2)\n",
    "# intensity = MeasuredBeam(power = 1e-3, sigma = 1*25.4e-3/(2*np.sqrt(2*np.log(2))), R0 = R0, k = k, freq = muW_freq_2)\n",
    "# intensity = GaussianBeam(power = 0.5e-3, sigma = 1*25.4e-3/(2*np.sqrt(2*np.log(2))), R0 = R0, k = k, freq = muW_freq_2)\n",
    "\n",
    "#### Define MicrowaveField\n",
    "mf12 = MicrowaveField(1, 2, intensity, pol, muW_freq_2, hamiltonian.QN)"
   ]
  },
  {
   "cell_type": "markdown",
   "id": "70f82d6d-8396-415b-94ec-1b7e6be25347",
   "metadata": {},
   "source": [
    "### Define list of microwave fields"
   ]
  },
  {
   "cell_type": "code",
   "execution_count": null,
   "id": "6a2722bd-3a20-4bf4-b5a8-06a72f3f0721",
   "metadata": {},
   "outputs": [],
   "source": [
    "microwave_fields = [mf12]"
   ]
  },
  {
   "cell_type": "markdown",
   "id": "559dc749-9901-4b4d-b58b-a6312938e6e9",
   "metadata": {},
   "source": [
    "## Time-evolution\n",
    "Next define a Simulator and use it to numerically integrate the Schroedinger equation to see how the states evolve as the electric field is ramped down. "
   ]
  },
  {
   "cell_type": "code",
   "execution_count": null,
   "id": "8ec616d1-a472-4436-99cc-b12e101c9c9d",
   "metadata": {},
   "outputs": [],
   "source": [
    "simulator = Simulator(trajectory, electric_field, magnetic_field, initial_states_approx, hamiltonian, microwave_fields)"
   ]
  },
  {
   "cell_type": "code",
   "execution_count": null,
   "id": "7ff57726-1d1a-4c5e-808b-72a7b0d53c99",
   "metadata": {},
   "outputs": [],
   "source": [
    "# Set microwave parameters\n",
    "## Center postion\n",
    "R0 = np.array([0.00,0,0.0])\n",
    "\n",
    "## Sigma\n",
    "mf12.intensity.sigma = 1.0*25.4e-3/(2*np.sqrt(2*np.log(2)))\n",
    "\n",
    "## Frequency\n",
    "freq = calculate_transition_frequency(state1, state2, hamiltonian.H_R(R0), hamiltonian.QN)\n",
    "detuning = 2e3\n",
    "mf12.set_frequency(freq + detuning)\n",
    "mf12.set_position(R0)\n",
    "\n",
    "## Power\n",
    "# Calculate and set the microwave power needed for given Rabi rate\n",
    "mf12.calculate_microwave_power(state1, state2, 2*np.pi*10e3, R0)\n",
    "# mf12.set_power(2.6e-5)\n",
    "print(f\"Microwave power = {mf12.intensity.power:.1E}W = {10*np.log10(mf12.intensity.power)+30:.1f} dBm\")\n",
    "\n",
    "\n",
    "# Molecule parameters\n",
    "trajectory.Rini = np.array([0,0.00,-150e-3])\n",
    "trajectory.Vini = np.array([0,0,184])\n",
    "trajectory.zfin = 150e-3"
   ]
  },
  {
   "cell_type": "code",
   "execution_count": null,
   "id": "9429f756-1a60-4087-a087-6bf8253c542d",
   "metadata": {},
   "outputs": [],
   "source": [
    "result = simulator.run(N_steps = 10000)"
   ]
  },
  {
   "cell_type": "markdown",
   "id": "90f578b5-0a2a-4450-a188-b77764931aac",
   "metadata": {
    "tags": []
   },
   "source": [
    "## Plot results"
   ]
  },
  {
   "cell_type": "markdown",
   "id": "c4f7a7f6-7e4f-4948-bde9-af0809a70775",
   "metadata": {},
   "source": [
    "### State evolution for main state"
   ]
  },
  {
   "cell_type": "code",
   "execution_count": null,
   "id": "5ababcc6-44a8-4917-aa5d-1f3effe3abf9",
   "metadata": {
    "tags": []
   },
   "outputs": [],
   "source": [
    "initial_state = result.initial_states[0]\n",
    "large_prob_states = result.find_large_prob_states(initial_state, N = 3)\n",
    "fig, (ax, ax2) = plt.subplots(2,1, figsize = (210/25.4,1.5*297/25.4/3*1), constrained_layout = True)\n",
    "result.plot_state_probabilities(large_prob_states, initial_state, ax = ax, position = True, state_mapper = map_state_reverse)\n",
    "legend_labels = [\n",
    "    r'$|J = 1, m_J = 1,\\downarrow,\\uparrow\\rangle$',\n",
    "    r'$|J = 2, m_J = 0, S = 0\\rangle$',\n",
    "    r'$|J = 2, m_J = 0, S = 1, m_S = 0\\rangle$',\n",
    "    \n",
    "]\n",
    "ax.legend(bbox_to_anchor = (1,1))\n",
    "# ax.axvline(x = R0[2]*1e2, ls ='--', c = 'k')\n",
    "# ax.set_title(f\"Power = ${mf12.intensity.power:.1E}$ W\")\n",
    "ax.set_title(\"Probability of being in given state vs Z-position\", fontsize = 14)\n",
    "ax.set_ylabel('Probability')\n",
    "\n",
    "# Show microwave polarization components\n",
    "t_array = result.t_array\n",
    "Rs = np.array([trajectory.R_t(t) for t in t_array])\n",
    "pols = np.array([mf12.p_t(t) for t in result.t_array])\n",
    "Omegas_R = np.array([mf12.intensity.E_R(trajectory.R_t(t)) for t in t_array])\n",
    "ax_twin = ax.twinx()\n",
    "ax_twin.grid(False)\n",
    "ax_twin.fill_between(Rs[:,2]*100,Omegas_R/Omegas_R.max()*np.real(pols[:,0]), color = 'C5', alpha = 0.2, label = 'Microwave Rabi rate')\n",
    "ax_twin.set_yticks([])\n",
    "# ax_twin.fill_between(Rs[:,2]*100,Omegas_R/Omegas_R.max()*np.imag(pols[:,2]), color = 'C1', alpha = 0.3, label = 'π')\n",
    "\n",
    "lines = ax.lines\n",
    "collections = ax_twin.collections\n",
    "objects = lines+collections\n",
    "labels = legend_labels + [c.get_label() for c in collections]\n",
    "ax.legend(objects, labels, fontsize = 14)\n",
    "\n",
    "\n",
    "Es, _, _ = electric_field.plot(trajectory, position=True, ax = ax2)\n",
    "ax2.set_title('Electric field experienced by molecule over position', fontsize = 14)\n",
    "print(f\"Probability of target state: {result.get_state_probability(map_state(J1_pmp), initial_state)[-1]:.3f}\")\n",
    "print(f\"Power = {mf12.intensity.power:.1E}W = {10*np.log10(mf12.intensity.power)+30:.1f} dBm\")\n",
    "\n",
    "plt.savefig('../../figures/SPB/state_evolution_pmp_BG_low_E_power_27e-6W_detuning_2kHz.pdf')"
   ]
  },
  {
   "cell_type": "markdown",
   "id": "9f7f1227-ecb5-4a66-9af1-351a0206eae1",
   "metadata": {},
   "source": [
    "### State evolution for other J = 2, m_J = 0 states"
   ]
  },
  {
   "cell_type": "code",
   "execution_count": null,
   "id": "ec937ad0-ead2-497a-9e6f-a9c3537d0c67",
   "metadata": {},
   "outputs": [],
   "source": [
    "fig, axs = plt.subplots(3,1, figsize = (210/25.4,3*297/25.4/3), constrained_layout = True)\n",
    "titles = [\n",
    "    r'$|J = 2, m_J = 0, S = 1, m_S = -1\\rangle$',\n",
    "    r'$|J = 2, m_J = 0, S = 1, m_S = 0\\rangle$',\n",
    "    r'$|J = 2, m_J = 0, S = 1, m_S = +1\\rangle$'\n",
    "]\n",
    "Ns = [3,2,2]\n",
    "legend_labels = [\n",
    "    [\n",
    "        r'$|J = 2, m_J = 0, S = 1, m_S = -1\\rangle$',\n",
    "        r'$|I\\rangle$',\n",
    "        r'$|L\\rangle$',\n",
    "    ],\n",
    "    [\n",
    "        r'$|J = 2, m_J = 0, S = 1, m_S = 0\\rangle$',\n",
    "        r'$|J = 1, m_J = 1,\\downarrow,\\uparrow\\rangle$',\n",
    "        # r'$|J = 2, m_J = 0, S = 0\\rangle$',\n",
    "    ],\n",
    "    [\n",
    "        r'$|J = 2, m_J = 0, S = 1, m_S = +1\\rangle$',\n",
    "        r'$|J = 1, m_J = 1, \\uparrow,\\uparrow\\rangle$',\n",
    "    ]\n",
    "]\n",
    "\n",
    "for i, initial_state in enumerate(result.initial_states[1:]):\n",
    "    ax = axs[i]\n",
    "    title = titles[i]\n",
    "    N = Ns[i]\n",
    "    labels = legend_labels[i]\n",
    "    large_prob_states = result.find_large_prob_states(initial_state, N = N)\n",
    "    result.plot_state_probabilities(large_prob_states, initial_state, ax = ax, position = True, state_mapper=map_state_reverse)\n",
    "    ax.legend(fontsize = 14, bbox_to_anchor = (1,1))\n",
    "    ax.legend(fontsize = 14, labels = labels)\n",
    "    # ax.axvline(x = R0[2]*1e2, ls ='--', c = 'k')\n",
    "    ax.set_title(title, fontsize = 14)\n",
    "    \n",
    "axs[1].set_ylabel('Probability of being\\ningiven state')\n",
    "    \n",
    "# plt.savefig('../../figures/SPB/state_evolution_pmp_BG_other_ini_states.pdf')"
   ]
  },
  {
   "cell_type": "markdown",
   "id": "2943f050-dd6d-4257-b62a-0bb657e90172",
   "metadata": {},
   "source": [
    "### Coupling strengths"
   ]
  },
  {
   "cell_type": "code",
   "execution_count": null,
   "id": "428d1dc5-012f-41d9-8288-2683fc58e47a",
   "metadata": {},
   "outputs": [],
   "source": [
    "%%time\n",
    "# coupling_plotter = CouplingPlotter(\n",
    "#     [(J2_singlet, J1_pmp), (J2_singlet, J1_ppm), (J2_singlet, J1_I), (J2_singlet, J1_L)],\n",
    "#     result.hamiltonian,\n",
    "#     result.electric_field,\n",
    "#     result.microwave_fields[0],\n",
    "#     np.array([result.t_array[len(result.t_array)//2]]))\n",
    "\n",
    "coupling_plotter = CouplingPlotter(\n",
    "    [(map_state(J2_singlet), map_state(J1_pmp)), (map_state(J2_singlet), map_state(J1_ppm)), (map_state(J2_singlet), map_state(J1_I)), (map_state(J2_singlet), map_state(J1_L))],\n",
    "    result.hamiltonian,\n",
    "    result.electric_field,\n",
    "    result.microwave_fields[0],\n",
    "    np.array(result.t_array))"
   ]
  },
  {
   "cell_type": "code",
   "execution_count": null,
   "id": "53e32168-f453-4966-ba0d-07cd586b6d8a",
   "metadata": {},
   "outputs": [],
   "source": [
    "fig, ax = plt.subplots()\n",
    "coupling_plotter.plot_coupling_strengths(ax = ax)\n",
    "# ax.legend()"
   ]
  },
  {
   "cell_type": "code",
   "execution_count": null,
   "id": "b65f980a-51de-478b-88a4-0bd513a04704",
   "metadata": {},
   "outputs": [],
   "source": [
    "for couplings in coupling_plotter.MEs:\n",
    "    print(couplings[len(couplings)//2])"
   ]
  },
  {
   "cell_type": "markdown",
   "id": "2442bf21-d543-4c1b-873d-c4c0eb463a13",
   "metadata": {},
   "source": [
    "### Plot energies for the allowed transitions"
   ]
  },
  {
   "cell_type": "code",
   "execution_count": null,
   "id": "65a86dcf-64e9-4918-b7d1-4e544d241792",
   "metadata": {},
   "outputs": [],
   "source": [
    "# J = 2 states\n",
    "E_J2_singlet = result.get_state_energy(map_state(J2_singlet))\n",
    "E_J2_triplet_m = result.get_state_energy(map_state(J2_triplet_m))\n",
    "E_J2_triplet_0 = result.get_state_energy(map_state(J2_triplet_0))\n",
    "E_J2_triplet_p = result.get_state_energy(map_state(J2_triplet_p))\n",
    "\n",
    "E_J2_mJ1pp = result.get_state_energy(map_state(J2_mJ1pp))\n",
    "\n",
    "# J = 1 states\n",
    "E_J1_pmp = result.get_state_energy(map_state(J1_pmp))\n",
    "E_J1_ppm = result.get_state_energy(map_state(J1_ppm))\n",
    "E_J1_ppp = result.get_state_energy(map_state(J1_ppp))\n",
    "E_J1_L = result.get_state_energy(map_state(J1_L))\n",
    "E_J1_I = result.get_state_energy(map_state(J1_I))\n",
    "\n",
    "# Calculate frequencies\n",
    "f_J2_singlet_pmp = (E_J2_singlet - E_J1_pmp)/(2*np.pi*1e9)\n",
    "f_J2_triplet_0_pmp = (E_J2_triplet_0 - E_J1_pmp)/(2*np.pi*1e9)\n",
    "\n",
    "f_J2_singlet_ppm = (E_J2_singlet - E_J1_ppm)/(2*np.pi*1e9)\n",
    "f_J2_triplet_0_ppm = (E_J2_triplet_0 - E_J1_ppm)/(2*np.pi*1e9)\n",
    "\n",
    "f_J2_singlet_L = (E_J2_singlet - E_J1_L)/(2*np.pi*1e9)\n",
    "f_J2_singlet_I = (E_J2_singlet - E_J1_I)/(2*np.pi*1e9)\n",
    "\n",
    "f_J2_triplet_p_ppp = (E_J2_triplet_p - E_J1_ppp)/(2*np.pi*1e9)\n",
    "f_J2_triplet_m_I = (E_J2_triplet_m - E_J1_I)/(2*np.pi*1e9)\n",
    "f_J2_triplet_m_L = (E_J2_triplet_m - E_J1_L)/(2*np.pi*1e9)\n",
    "\n",
    "f_J2_mJ1pp_pmp = (E_J2_mJ1pp - E_J1_pmp)/(2*np.pi*1e9)\n",
    "\n",
    "\n",
    "# Plot the frequencies\n",
    "fig, ax = plt.subplots()\n",
    "ax.plot(result.z_array*100, f_J2_singlet_pmp, label = r'$|J = 2, m_J = 0, S = 0\\rangle\\rightarrow |J = 1, m_J = 1, \\downarrow,\\uparrow\\rangle$')\n",
    "ax.plot(result.z_array*100, f_J2_triplet_0_pmp, label = r'$|J = 2, m_J = 0, S = 1, m_S =0\\rangle\\rightarrow |J = 1, m_J = 1, \\downarrow,\\uparrow\\rangle$')\n",
    "ax.plot(result.z_array*100, f_J2_singlet_ppm, label = r'$|J = 2, m_J = 0, S = 0\\rangle\\rightarrow |J = 1, m_J = 1, \\uparrow,\\downarrow\\rangle$')\n",
    "ax.plot(result.z_array*100, f_J2_triplet_0_ppm, label = r'$|J = 2, m_J = 0, S = 1, m_S =0\\rangle\\rightarrow |J = 1, m_J = 1, \\uparrow,\\downarrow\\rangle$')\n",
    "ax.plot(result.z_array*100, f_J2_singlet_L, label = r'$|J = 2, m_J = 0, S = 0\\rangle\\rightarrow |J = 1,L\\rangle$')\n",
    "ax.plot(result.z_array*100, f_J2_singlet_I, label = r'$|J = 2, m_J = 0, S = 0\\rangle\\rightarrow |J = 1,I, \\rangle$')\n",
    "ax.plot(result.z_array*100, f_J2_mJ1pp_pmp, label = r'$|J = 2, m_J = 1,\\uparrow,\\uparrow\\rangle\\rightarrow |J = 1,m_J = 1,\\downarrow\\uparrow\\rangle$')\n",
    "\n",
    "\n",
    "# Show frequency of microwaves\n",
    "ax.axhline(muW_freq_2/(1e9), ls = '--', c = 'k', alpha = 0.8, label =  'Microwave frequency')\n",
    "\n",
    "\n",
    "# Show microwave polarization components\n",
    "t_array = result.t_array\n",
    "Rs = np.array([trajectory.R_t(t) for t in t_array])\n",
    "pols = np.array([mf12.p_t(t) for t in result.t_array])\n",
    "Omegas_R = np.array([mf12.intensity.E_R(trajectory.R_t(t)) for t in t_array])\n",
    "ax_twin = ax.twinx()\n",
    "ax_twin.grid(False)\n",
    "ax_twin.fill_between(Rs[:,2]*100,Omegas_R/Omegas_R.max()*np.real(pols[:,0]), color = 'C0', alpha = 0.3, label = 'σ+')\n",
    "ax_twin.fill_between(Rs[:,2]*100,Omegas_R/Omegas_R.max()*np.imag(pols[:,2]), color = 'C1', alpha = 0.3, label = 'π')\n",
    "\n",
    "ax.set_xlabel('Position / cm')\n",
    "ax.set_ylabel('Transition frequency / GHz')\n",
    "ax.legend(loc = 'center right', fontsize = 12)\n",
    "ax.margins(0.05)\n",
    "\n"
   ]
  },
  {
   "cell_type": "markdown",
   "id": "62dd8eb1-8e27-4459-a61b-b452d1020dbb",
   "metadata": {},
   "source": [
    "### Plot frequencies relative to microwave frequency"
   ]
  },
  {
   "cell_type": "code",
   "execution_count": null,
   "id": "cc4de4ea-6d19-4381-82ba-88c63965b612",
   "metadata": {},
   "outputs": [],
   "source": [
    "# J = 2 states\n",
    "E_J2_singlet = result.get_state_energy(map_state(J2_singlet))\n",
    "E_J2_triplet_m = result.get_state_energy(map_state(J2_triplet_m))\n",
    "E_J2_triplet_0 = result.get_state_energy(map_state(J2_triplet_0))\n",
    "E_J2_triplet_p = result.get_state_energy(map_state(J2_triplet_p))\n",
    "\n",
    "# J = 1 states\n",
    "E_J1_pmp = result.get_state_energy(map_state(J1_pmp))\n",
    "E_J1_ppm = result.get_state_energy(map_state(J1_ppm))\n",
    "E_J1_ppp = result.get_state_energy(map_state(J1_ppp))\n",
    "E_J1_L = result.get_state_energy(map_state(J1_L))\n",
    "E_J1_I = result.get_state_energy(map_state(J1_I))\n",
    "\n",
    "# Calculate frequencies\n",
    "f_J2_singlet_pmp = (E_J2_singlet - E_J1_pmp)/(2*np.pi*1e3) - muW_freq_2/1e3\n",
    "f_J2_triplet_0_pmp = (E_J2_triplet_0 - E_J1_pmp)/(2*np.pi*1e3) - muW_freq_2/1e3\n",
    "\n",
    "f_J2_singlet_ppm = (E_J2_singlet - E_J1_ppm)/(2*np.pi*1e3) - muW_freq_2/1e3\n",
    "f_J2_triplet_0_ppm = (E_J2_triplet_0 - E_J1_ppm)/(2*np.pi*1e3) - muW_freq_2/1e3\n",
    "\n",
    "f_J2_singlet_L = (E_J2_singlet - E_J1_L)/(2*np.pi*1e3) - muW_freq_2/1e3\n",
    "f_J2_singlet_I = (E_J2_singlet - E_J1_I)/(2*np.pi*1e3) - muW_freq_2/1e3\n",
    "f_J2_mJ1pp_pmp = (E_J2_mJ1pp - E_J1_pmp)/(2*np.pi*1e3) - muW_freq_2/1e3\n",
    "\n",
    "f_J2_triplet_p_ppp = (E_J2_triplet_p - E_J1_ppp)/(2*np.pi*1e3)- muW_freq_2/1e3\n",
    "f_J2_triplet_m_I = (E_J2_triplet_m - E_J1_I)/(2*np.pi*1e3)- muW_freq_2/1e3\n",
    "f_J2_triplet_m_L = (E_J2_triplet_m - E_J1_L)/(2*np.pi*1e3)- muW_freq_2/1e3\n",
    "\n",
    "\n",
    "# Plot the frequencies\n",
    "fig, ax = plt.subplots(figsize =(10,4), constrained_layout = True)\n",
    "# ax.set_xlim((-10,10))\n",
    "ax.set_ylim(-75,75)\n",
    "\n",
    "ax.plot(result.z_array*100, f_J2_singlet_pmp, label = r'$|J = 2, m_J = 0, S = 0\\rangle\\rightarrow |J = 1, m_J = 1, \\downarrow,\\uparrow\\rangle$')\n",
    "ax.plot(result.z_array*100, f_J2_singlet_L, label = r'$|J = 2, m_J = 0, S = 0\\rangle\\rightarrow |J = 1, L\\rangle$')\n",
    "ax.plot(result.z_array*100, f_J2_singlet_I, label = r'$|J = 2, m_J = 0, S = 0\\rangle\\rightarrow |J = 1, I \\rangle$')\n",
    "ax.plot(result.z_array*100, f_J2_triplet_0_pmp, label = r'$|J = 1, m_J = 1, \\downarrow,\\uparrow\\rangle\\rightarrow |J = 2, m_J = 0, S = 1, m_S =0\\rangle$')\n",
    "# ax.plot(result.z_array*100, f_J2_singlet_ppm, label = r'$|J = 2, m_J = 0, S = 0\\rangle\\rightarrow |J = 1, m_J = 1, \\uparrow,\\downarrow\\rangle$')\n",
    "# ax.plot(result.z_array*100, f_J2_triplet_0_ppm, label = r'$|J = 2, m_J = 0, S = 1, m_S =0\\rangle\\rightarrow |J = 1, m_J = 1, \\uparrow,\\downarrow\\rangle$')\n",
    "ax.plot(result.z_array*100, f_J2_mJ1pp_pmp, label = r'$|J = 1,m_J = 1,\\downarrow,\\uparrow\\rangle\\rightarrow |J = 2, m_J = 1,+,+\\rangle$')\n",
    "ax.axhline(0, ls = '--', c = 'k', alpha = 0.7, label = r'$\\Delta = 0$')\n",
    "\n",
    "\n",
    "\n",
    "# Show microwave polarization components\n",
    "t_array = result.t_array\n",
    "Rs = np.array([trajectory.R_t(t) for t in t_array])\n",
    "pols = np.array([mf12.p_t(t) for t in result.t_array])\n",
    "Omegas_R = np.array([mf12.intensity.E_R(trajectory.R_t(t)) for t in t_array])\n",
    "\n",
    "ax_twin = ax.twinx()\n",
    "ax_twin.grid(False)\n",
    "ax_twin.fill_between(Rs[:,2]*100,Omegas_R/Omegas_R.max()*np.real(pols[:,0]), color = 'C0', alpha = 0.3, label = 'σ+')\n",
    "ax_twin.fill_between(Rs[:,2]*100,Omegas_R/Omegas_R.max()*np.imag(pols[:,2]), color = 'C1', alpha = 0.3, label = 'π')\n",
    "# ax_twin.set_ylabel('Relative Rabi rate')\n",
    "ax_twin.set_yticks([])\n",
    "\n",
    "objects = ax.lines + ax_twin.collections\n",
    "labels = [o.get_label() for o in objects]\n",
    "\n",
    "ax.set_xlabel('Position / cm')\n",
    "ax.set_ylabel('Detuning from microwaves / kHz')\n",
    "ax.legend(objects, labels, loc = 'upper left', fontsize = 12, bbox_to_anchor = (1,1))\n",
    "ax.margins(0.05)\n",
    "\n",
    "fig.savefig('../../figures/SPB/SPB_low_E_detunings_target_state_BG.pdf')"
   ]
  },
  {
   "cell_type": "code",
   "execution_count": null,
   "id": "479b7283-c670-4c62-9163-6f8d5bee5576",
   "metadata": {},
   "outputs": [],
   "source": [
    "# Plot the frequencies\n",
    "fig, ax = plt.subplots(figsize =(10,4), constrained_layout = True)\n",
    "# ax.set_xlim((-10,10))\n",
    "ax.set_ylim(-160,150)\n",
    "\n",
    "# ax.plot(result.z_array*100, f_J2_singlet_pmp, label = r'$|J = 2, m_J = 0, S = 0\\rangle\\rightarrow |J = 1, m_J = 1, \\downarrow,\\uparrow\\rangle$')\n",
    "# ax.plot(result.z_array*100, f_J2_singlet_L, label = r'$|J = 2, m_J = 0, S = 0\\rangle\\rightarrow |J = 1, L\\rangle$')\n",
    "# ax.plot(result.z_array*100, f_J2_singlet_I, label = r'$|J = 2, m_J = 0, S = 0\\rangle\\rightarrow |J = 1, I \\rangle$')\n",
    "ax.plot(result.z_array*100, f_J2_triplet_0_pmp, label = r'$|J = 2, m_J = 0, S = 1, m_S =0\\rangle\\rightarrow |J = 1, m_J = 1, \\downarrow,\\uparrow\\rangle$')\n",
    "ax.plot(result.z_array*100, f_J2_triplet_m_L, label = r'$|J = 2, m_J = 0, S = 1, m_S =-1\\rangle\\rightarrow |J = 1, L\\rangle$')\n",
    "ax.plot(result.z_array*100, f_J2_triplet_m_I, label = r'$|J = 2, m_J = 0, S = 1, m_S =-1\\rangle\\rightarrow |J = 1, I\\rangle$')\n",
    "ax.plot(result.z_array*100, f_J2_triplet_p_ppp, label = r'$|J = 2, m_J = 0, S = 1, m_S =+1\\rangle\\rightarrow |J = 1, \\uparrow\\uparrow\\rangle$')\n",
    "# ax.plot(result.z_array*100, f_J2_singlet_ppm, label = r'$|J = 2, m_J = 0, S = 0\\rangle\\rightarrow |J = 1, m_J = 1, \\uparrow,\\downarrow\\rangle$')\n",
    "# ax.plot(result.z_array*100, f_J2_triplet_0_ppm, label = r'$|J = 2, m_J = 0, S = 1, m_S =0\\rangle\\rightarrow |J = 1, m_J = 1, \\uparrow,\\downarrow\\rangle$')\n",
    "# ax.plot(result.z_array*100, f_J2_mJ1pp_pmp, label = r'$|J = 2, m_J = 1,+,+\\rangle\\rightarrow |J = 1,m_J = 1,\\downarrow\\uparrow, \\rangle$')\n",
    "ax.axhline(0, ls = '--', c = 'k', alpha = 0.7, label = r'$\\Delta = 0$')\n",
    "\n",
    "# Show microwave polarization components\n",
    "t_array = result.t_array\n",
    "Rs = np.array([trajectory.R_t(t) for t in t_array])\n",
    "pols = np.array([mf12.p_t(t) for t in result.t_array])\n",
    "Omegas_R = np.array([mf12.intensity.E_R(trajectory.R_t(t)) for t in t_array])\n",
    "ax_twin = ax.twinx()\n",
    "ax_twin.grid(False)\n",
    "ax_twin.fill_between(Rs[:,2]*100,Omegas_R/Omegas_R.max()*np.real(pols[:,0]), color = 'C0', alpha = 0.3, label = 'σ+')\n",
    "ax_twin.fill_between(Rs[:,2]*100,Omegas_R/Omegas_R.max()*np.imag(pols[:,2]), color = 'C1', alpha = 0.3, label = 'π')\n",
    "# ax_twin.set_ylabel('Relative Rabi rate')\n",
    "ax_twin.set_yticks([])\n",
    "\n",
    "objects = ax.lines + ax_twin.collections\n",
    "labels = [o.get_label() for o in objects]\n",
    "\n",
    "ax.set_xlabel('Position / cm')\n",
    "ax.set_ylabel('Detuning from microwaves / kHz')\n",
    "ax.legend(objects, labels, loc = 'upper left', fontsize = 12, bbox_to_anchor = (1,1))\n",
    "ax.margins(0.05)\n",
    "\n",
    "fig.savefig('../../figures/SPB/SPB_low_E_detunings_triplet_states_BG.pdf')"
   ]
  },
  {
   "cell_type": "markdown",
   "id": "fc849b9f-8e9d-4792-b5c5-9facfda60d3b",
   "metadata": {},
   "source": [
    "### Plot intensity profile\n",
    "Check that the longitudinal polarization appears correctly"
   ]
  },
  {
   "cell_type": "code",
   "execution_count": null,
   "id": "5f1eecfe-7fb2-46c3-84c8-05be96a52641",
   "metadata": {
    "tags": []
   },
   "outputs": [],
   "source": [
    "Rs = np.array([trajectory.R_t(t) for t in result.t_array])\n",
    "intensities_R = np.array([mf12.intensity.I_R(trajectory.R_t(t)) for t in result.t_array])\n",
    "intensities = np.array([mf12.intensity.I_R(np.array([0.0,0.0127,z])) for z in Rs[:,2]])\n",
    "\n",
    "fig, ax = plt.subplots()\n",
    "ax.plot(Rs[:,2],intensities_R)\n",
    "ax.plot(Rs[:,2],intensities)\n",
    "ax.set_xlabel(\"Z-position / m\")\n",
    "ax.set_ylabel(r\"Intensity / $W/m^2$\")\n",
    "ax.axvline(x = R0[2], ls ='--', c = 'k')\n",
    "ax.axvline(x = 0.0127, ls ='--', c = 'k')"
   ]
  },
  {
   "cell_type": "markdown",
   "id": "1d8fdf78-15d0-4da9-987d-f44b4f1df55c",
   "metadata": {},
   "source": [
    "### Plot polarization components"
   ]
  },
  {
   "cell_type": "code",
   "execution_count": null,
   "id": "ddb73509-dda8-4838-a56c-6148481f7d30",
   "metadata": {},
   "outputs": [],
   "source": [
    "pols = np.array([mf12.p_t(t) for t in result.t_array])"
   ]
  },
  {
   "cell_type": "code",
   "execution_count": null,
   "id": "4b34701d-a212-4ead-a8ec-888a3c0eb332",
   "metadata": {},
   "outputs": [],
   "source": [
    "fig, ax = plt.subplots()\n",
    "ax.plot(Rs[:,2], np.real(pols[:,0]), label = 'x')\n",
    "ax.plot(Rs[:,2], np.imag(pols[:,1]), label = 'y')\n",
    "ax.plot(Rs[:,2], np.imag(pols[:,2]), label = 'z')"
   ]
  },
  {
   "cell_type": "markdown",
   "id": "31764d1a-9f47-4401-876f-847ff502b8ab",
   "metadata": {
    "tags": []
   },
   "source": [
    "## Parameter scans - J = 1 to 2\n",
    "### Helper functions\n",
    "Define two helper function to run the power scans:"
   ]
  },
  {
   "cell_type": "code",
   "execution_count": null,
   "id": "fa4b0126-cf02-4a0e-afb3-424b8938dc58",
   "metadata": {},
   "outputs": [],
   "source": [
    "def run_simulation(power: float, detuning: float, R0: np.ndarray, Rini:np.ndarray, Vini: np.ndarray, initial_state: centrex_tlf.states.CoupledState, target_state: centrex_tlf.states.CoupledState, second_target:centrex_tlf.states.CoupledState, r: float, phi:float, save_path: Path = None, N_steps = 10000):\n",
    "    \"\"\"\n",
    "    Runs the simulation for one value of power and finds the probability of ending up in the target state.\n",
    "    \"\"\"\n",
    "    ## Microwave settings    \n",
    "    # Set position\n",
    "    mf12.set_position(R0)\n",
    "    \n",
    "    # Set frequency\n",
    "    freq = calculate_transition_frequency(initial_state, target_state, hamiltonian.H_R(R0), hamiltonian.QN)\n",
    "    mf12.set_frequency(freq + detuning)\n",
    "    mf12.set_position(R0)\n",
    "\n",
    "    # Set power\n",
    "    mf12.set_power(power)\n",
    "    \n",
    "    # Set polarization\n",
    "    # Define a function that gives the main component of the polarization as a function of position\n",
    "    p_main = (p_plus - p_minus + r*np.exp(1j*phi)*(p_plus + p_minus))\n",
    "    P_R = lambda R: p_main/np.sqrt(np.sum(np.abs(p_main)**2))\n",
    "    # Define k-vector (in XYZ coordinates\n",
    "    k = np.array((1,0,0))\n",
    "    pol = Polarization(P_R, k, f_long = 1, dir_long = np.array([0,0,1]))\n",
    "    mf12.polarization = pol\n",
    "\n",
    "    # Trajectory settings\n",
    "    trajectory.Rini = Rini\n",
    "    trajectory.Vini = Vini\n",
    "    \n",
    "    # Run the simulator\n",
    "    result = simulator.run(N_steps = N_steps)\n",
    "    \n",
    "    # Save result if save path provided\n",
    "    if save_path:\n",
    "        result.save_to_pickle(save_path)\n",
    "    \n",
    "    # Determine probability to be in initial state\n",
    "    prob_ini = result.get_state_probability(map_state(initial_state), initial_state = result.initial_states[0])[-1]\n",
    "\n",
    "    # Determine probability to be in target state\n",
    "    prob_fin = result.get_state_probability(map_state(target_state), initial_state = result.initial_states[0])[-1]\n",
    "    \n",
    "    # Determine probability to be in time-reversed version of target state\n",
    "    prob_T = result.get_state_probability(map_state(target_state.time_reversed()), initial_state = result.initial_states[0])[-1]\n",
    "    \n",
    "    # Determine probability to be in the other target state\n",
    "    prob_st =  result.get_state_probability(map_state(second_target), initial_state = result.initial_states[0])[-1]\n",
    "    \n",
    "    # Return a dataframe\n",
    "    df = pd.DataFrame({\"power\":[power], \"detuning\":[detuning], \"muw_position\": [R0], \"Rini\":[Rini], \"Vini\":[Vini],  \"prob_ini\":[prob_ini], \"prob_fin\": [prob_fin], \"prob_T\": [prob_T], \"prob_st\": [prob_st], 'axial_ratio':r, 'phase_offset':phi, \"save_path\": [save_path]})\n",
    "    \n",
    "    return df"
   ]
  },
  {
   "cell_type": "code",
   "execution_count": null,
   "id": "28c85773-b073-4014-853a-ef985f11b92c",
   "metadata": {},
   "outputs": [],
   "source": [
    "# Define the function to be run in parallel\n",
    "def parallel_func(power = 10**(-4.1), detuning = 0, R0 = np.array([0.00,0,0.0]), Rini = np.array((0,0,-100e-3)), Vini = np.array((0,0,184.)), r = 1, phi = 0, save = False, N_steps = 10000):\n",
    "    save_path = SAVE_DIR / Path(f\"result_{generate_random_key()}\") if save else None\n",
    "    return run_simulation(power, detuning, R0, Rini, Vini, J2_singlet, J1_pmp, J1_ppm, r = r, phi = phi, save_path=save_path, N_steps = N_steps)"
   ]
  },
  {
   "cell_type": "code",
   "execution_count": null,
   "id": "02f8e1fc-9fca-4f72-8957-7faf730baeec",
   "metadata": {},
   "outputs": [],
   "source": [
    "# Function for generating random keys for the results\n",
    "def generate_random_key(length: int = 6):\n",
    "    return ''.join(random.choices(string.ascii_letters + string.digits, k = length))"
   ]
  },
  {
   "cell_type": "markdown",
   "id": "7043ab10-123f-43dc-84ec-a6c114fc09d4",
   "metadata": {},
   "source": [
    "### Save directory"
   ]
  },
  {
   "cell_type": "code",
   "execution_count": null,
   "id": "133feb44-fcec-4de3-8a00-9784489a25e6",
   "metadata": {},
   "outputs": [],
   "source": [
    "SAVE_DIR = Path('../../results/SPB - parameter scans/low_E')"
   ]
  },
  {
   "cell_type": "markdown",
   "id": "86340598-2722-4961-bcc9-16846aba987e",
   "metadata": {},
   "source": [
    "### Run power scan"
   ]
  },
  {
   "cell_type": "code",
   "execution_count": null,
   "id": "0e7e9150-52fe-4e92-9417-7b0187e2d877",
   "metadata": {},
   "outputs": [],
   "source": [
    "# Power values\n",
    "powers = 10**((np.linspace(-70,10,36)-30)/10) # in W\n",
    "\n",
    "# Initialize parallel loop\n",
    "df = pd.concat(Parallel(n_jobs = 9, verbose = 1)(delayed(parallel_func)(power=power, detuning = 2e3,) for power in powers)).reset_index(drop=True)"
   ]
  },
  {
   "cell_type": "code",
   "execution_count": null,
   "id": "d1edf979-2001-4500-914d-e060117b81c7",
   "metadata": {},
   "outputs": [],
   "source": [
    "fig, ax = plt.subplots()\n",
    "ax.plot(10*np.log10(df.power)+30, df.prob_ini, label = r'$|J = 2, m_J = 0, S = 0\\rangle$')\n",
    "ax.plot(10*np.log10(df.power)+30, df.prob_fin, label = r'$|J = 1, m_J = 1, \\downarrow\\uparrow\\rangle$')\n",
    "ax.axvline(-15.7, ls= '--', c = 'k', alpha = 0.7, label = '-15.7 dBm')\n",
    "ax.set_xlabel(\"Power / dBm\")\n",
    "ax.set_ylabel(\"Population afer SPB\")\n",
    "ax.legend()\n",
    "fig.savefig('../../figures/SPB/SPB_efficiency_vs_power_BG_low_E_detuning_2kHz.pdf')"
   ]
  },
  {
   "cell_type": "markdown",
   "id": "3a2b6268-a4c5-4d39-99a7-031c134635dc",
   "metadata": {},
   "source": [
    "### Frequency scan"
   ]
  },
  {
   "cell_type": "code",
   "execution_count": null,
   "id": "cdb40989-89b9-4a71-a542-e42dd4027282",
   "metadata": {},
   "outputs": [],
   "source": [
    "# Define detunings\n",
    "deltas = np.linspace(-0.175, 0.05, 101)*1e6 # in Hz"
   ]
  },
  {
   "cell_type": "code",
   "execution_count": null,
   "id": "a6faa26f-ff53-4df1-9da3-aaa6334325dc",
   "metadata": {},
   "outputs": [],
   "source": [
    "# run simulations for different parameters\n",
    "df_freq_wide = pd.concat(Parallel(n_jobs = 9, verbose = 1)(delayed(parallel_func)(power=2.7e-5, detuning=delta, N_steps=10000) for delta in deltas)).reset_index(drop=True)"
   ]
  },
  {
   "cell_type": "code",
   "execution_count": null,
   "id": "1f5ed735-7d50-46e2-9788-f30c7c587384",
   "metadata": {},
   "outputs": [],
   "source": [
    "fig, ax = plt.subplots()\n",
    "ax.plot(df_freq_wide.detuning/1e3, df_freq_wide.prob_ini, label = r'$|J = 2, m_J = 0, S = 0\\rangle$')\n",
    "ax.plot(df_freq_wide.detuning/1e3, df_freq_wide.prob_fin, label = r'$|J = 1, m_J = 1, \\downarrow\\uparrow\\rangle$')\n",
    "ax.plot(df_freq_wide.detuning/1e3, df_freq_wide.prob_st, label = r'$|J = 1, m_J = 1, \\uparrow,\\downarrow\\rangle$')\n",
    "ax.set_xlabel(f\"Microwave frequency - {muW_freq_2/1e3:.1f} kHz / kHz\")\n",
    "ax.set_ylabel(\"Populations after SPB\")\n",
    "ax.grid(True)\n",
    "ax.legend()\n",
    "fig.savefig('../../figures/SPB/SPB_efficiency_vs_freq_wide_BG_low_E_power_27e-6W.pdf')"
   ]
  },
  {
   "cell_type": "markdown",
   "id": "08c2645f-c2a9-4ef7-849f-749c292b1a36",
   "metadata": {},
   "source": [
    "### Finer frequency scan"
   ]
  },
  {
   "cell_type": "code",
   "execution_count": null,
   "id": "06231485-a0d1-4c2b-9ccc-9b372acc6c98",
   "metadata": {},
   "outputs": [],
   "source": [
    "# Define detunings\n",
    "deltas = np.linspace(-0.05, 0.05, 41)*1e6 # in Hz"
   ]
  },
  {
   "cell_type": "code",
   "execution_count": null,
   "id": "de1411ea-f8e7-40e7-8389-a042ed8a0fb9",
   "metadata": {},
   "outputs": [],
   "source": [
    "# run simulations for different parameters\n",
    "df_freq = pd.concat(Parallel(n_jobs = 9, verbose = 1)(delayed(parallel_func)(power=2.7e-5, detuning=delta, N_steps=10000) for delta in deltas)).reset_index(drop=True)"
   ]
  },
  {
   "cell_type": "code",
   "execution_count": null,
   "id": "65b62b28-c106-4d94-b543-84fdea464c7f",
   "metadata": {},
   "outputs": [],
   "source": [
    "fig, ax = plt.subplots()\n",
    "ax.plot(df_freq.detuning/1e3, df_freq.prob_ini, label = r'$|J = 2, m_J = 0, S = 0\\rangle$')\n",
    "ax.plot(df_freq.detuning/1e3, df_freq.prob_fin, label = r'$|J = 1, m_J = 1, \\downarrow\\uparrow\\rangle$')\n",
    "ax.set_xlabel(f\"Microwave frequency - {muW_freq_2/1e3:.2f} kHz / kHz\")\n",
    "ax.set_ylabel(\"Populations after SPB\")\n",
    "ax.grid(True)\n",
    "ax.legend()\n",
    "fig.savefig('../../figures/SPB/SPB_efficiency_vs_freq_BG_low_E_power_27e-6W.pdf')"
   ]
  },
  {
   "cell_type": "markdown",
   "id": "90b739af-1b65-4ea7-91ce-13bef916303a",
   "metadata": {},
   "source": [
    "## Phase offset scan"
   ]
  },
  {
   "cell_type": "code",
   "execution_count": null,
   "id": "974a973b-b325-4505-96e3-9426738fd53f",
   "metadata": {},
   "outputs": [],
   "source": [
    "phis = np.linspace(-1, 1, 36)*np.pi/2 # Phi is offset from pi/2 betweem x- and y-polarized components in rad"
   ]
  },
  {
   "cell_type": "code",
   "execution_count": null,
   "id": "9e985622-3cf2-4036-ad3c-02c4a68b90b5",
   "metadata": {},
   "outputs": [],
   "source": [
    "# run simulations for different parameters\n",
    "df_phase = pd.concat(Parallel(n_jobs = 9, verbose = 1)(delayed(parallel_func)(power=2.7e-5, detuning = 2e3, phi = phi, N_steps=10000) for phi in phis)).reset_index(drop=True)"
   ]
  },
  {
   "cell_type": "code",
   "execution_count": null,
   "id": "7509fa73-a9b4-41c4-af83-b522f03bc98f",
   "metadata": {},
   "outputs": [],
   "source": [
    "fig, ax = plt.subplots(constrained_layout = True)\n",
    "ax.plot(df_phase.phase_offset, df_phase.prob_ini, label = r'$|J = 2, m_J = 0, S = 0\\rangle$')\n",
    "ax.plot(df_phase.phase_offset, df_phase.prob_fin, label = r'$|J = 1, m_J = 1, \\downarrow\\uparrow\\rangle$')\n",
    "ax.plot(df_phase.phase_offset, df_phase.prob_T, label = r'$|J = 1, m_J = -1, \\uparrow\\downarrow\\rangle$')\n",
    "ax.plot(df_phase.phase_offset, np.cos(df_phase.phase_offset/2)**2*np.max(df_phase.prob_fin), 'k--', label = r'$\\cos^2(\\theta/2)$')\n",
    "ax.set_xlabel(f\"Phase error / rad\")\n",
    "ax.set_xticks([-np.pi/2, -np.pi/4, 0, np.pi/4, np.pi/2], [r'$-\\frac{π}{2}$', r'$-\\frac{π}{4}$', r'$0$', r'$\\frac{π}{4}$', r'$\\frac{π}{2}$'])\n",
    "ax.set_ylabel(\"Populations after SPB\")\n",
    "ax.grid(True)\n",
    "ax.fill_betweenx([0.005,1],-4*np.pi/180, 4*np.pi/180, alpha = 0.3, color = 'C5', label = r'$\\pm4$ degrees')\n",
    "objects = ax.lines + ax.collections\n",
    "labels = [o.get_label() for o in objects]\n",
    "ax.legend(objects, labels, bbox_to_anchor = (1,0.8))\n",
    "ax.set_ylim([0,1])\n",
    "fig.savefig('../../figures/SPB/SPB_efficiency_vs_phase_offset_power_27e-6W_detuning_2kHz.pdf')"
   ]
  },
  {
   "cell_type": "markdown",
   "id": "e7d6f9c5-e497-4e10-bb88-231db224708f",
   "metadata": {},
   "source": [
    "### Save results\n",
    "Save the dataframes for the plots"
   ]
  },
  {
   "cell_type": "code",
   "execution_count": null,
   "id": "ab48c3e3-62c4-4370-a3ce-ee7d53fda31d",
   "metadata": {},
   "outputs": [],
   "source": [
    "df.to_csv(SAVE_DIR / Path('SPB_eff_vs_power_detuning_2kHz.csv'))\n",
    "df_freq_wide.to_csv(SAVE_DIR / Path('SPB_eff_vs_freq_power_27e-6W.csv'))\n",
    "df_phase.to_csv(SAVE_DIR / Path('SPB_eff_vs_phase_power_27e-6W_detuning_2kHz.csv'))"
   ]
  }
 ],
 "metadata": {
  "kernelspec": {
   "display_name": "Python 3.10.4 ('state_prep')",
   "language": "python",
   "name": "python3"
  },
  "language_info": {
   "codemirror_mode": {
    "name": "ipython",
    "version": 3
   },
   "file_extension": ".py",
   "mimetype": "text/x-python",
   "name": "python",
   "nbconvert_exporter": "python",
   "pygments_lexer": "ipython3",
   "version": "3.10.4"
  },
  "vscode": {
   "interpreter": {
    "hash": "8e68c8ab1fca4ad85230ddc16cf86f4cd2884d880dbe4184be60c22edf274551"
   }
  }
 },
 "nbformat": 4,
 "nbformat_minor": 5
}
